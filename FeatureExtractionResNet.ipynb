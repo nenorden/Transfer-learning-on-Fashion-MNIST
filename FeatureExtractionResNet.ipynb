{
  "nbformat": 4,
  "nbformat_minor": 0,
  "metadata": {
    "colab": {
      "name": "FeatureExtractionResNet.ipynb",
      "version": "0.3.2",
      "provenance": [],
      "collapsed_sections": []
    },
    "kernelspec": {
      "name": "python3",
      "display_name": "Python 3"
    },
    "accelerator": "GPU"
  },
  "cells": [
    {
      "cell_type": "markdown",
      "metadata": {
        "id": "view-in-github",
        "colab_type": "text"
      },
      "source": [
        "[View in Colaboratory](https://colab.research.google.com/github/nenorden/Transfer-learning-on-Fashion-MNIST/blob/master/FeatureExtractionResNet.ipynb)"
      ]
    },
    {
      "metadata": {
        "id": "OBbCnCye-XeQ",
        "colab_type": "text"
      },
      "cell_type": "markdown",
      "source": [
        "# Sanity check that cloud GPU is working\n",
        "Should print: \"/device:GPU:0\""
      ]
    },
    {
      "metadata": {
        "id": "6V8hn_Do5vhM",
        "colab_type": "code",
        "colab": {
          "base_uri": "https://localhost:8080/",
          "height": 35
        },
        "outputId": "2947897f-b561-42e0-dfbd-b6bfbfa3b9f0"
      },
      "cell_type": "code",
      "source": [
        "import tensorflow as tf\n",
        "print(tf.test.gpu_device_name())"
      ],
      "execution_count": 1,
      "outputs": [
        {
          "output_type": "stream",
          "text": [
            "/device:GPU:0\n"
          ],
          "name": "stdout"
        }
      ]
    },
    {
      "metadata": {
        "id": "jXsrybulQ8c5",
        "colab_type": "text"
      },
      "cell_type": "markdown",
      "source": [
        "# Import data with Tensorflow"
      ]
    },
    {
      "metadata": {
        "id": "ZdSHnml5QlB7",
        "colab_type": "code",
        "colab": {
          "base_uri": "https://localhost:8080/",
          "height": 52
        },
        "outputId": "c0ffaa6c-f8cc-4f5f-bed8-79132e851c0c"
      },
      "cell_type": "code",
      "source": [
        "!git clone https://github.com/zalandoresearch/fashion-mnist.git\n",
        "\n",
        "%matplotlib inline\n",
        "import tensorflow as tf\n",
        "import random\n",
        "import numpy as np\n",
        "import matplotlib.pyplot as plt\n",
        "\n",
        "import os\n",
        "\n",
        "os.chdir('/content/fashion-mnist/')\n",
        "import utils.mnist_reader as mnist_reader\n",
        "os.chdir(\"/\")\n",
        "\n",
        "# train and test data\n",
        "images_train, labels_train = mnist_reader.load_mnist('content/fashion-mnist/data/fashion', kind='train')\n",
        "images_test, labels_test = mnist_reader.load_mnist('content/fashion-mnist/data/fashion', kind='t10k')\n",
        "\n",
        "print(images_train.shape)\n",
        "\n"
      ],
      "execution_count": 3,
      "outputs": [
        {
          "output_type": "stream",
          "text": [
            "fatal: destination path 'fashion-mnist' already exists and is not an empty directory.\r\n",
            "(60000, 784)\n"
          ],
          "name": "stdout"
        }
      ]
    },
    {
      "metadata": {
        "id": "DBIT0lJvM08E",
        "colab_type": "text"
      },
      "cell_type": "markdown",
      "source": [
        "# Have a look at the data"
      ]
    },
    {
      "metadata": {
        "id": "oO-Ry9o3Eqwr",
        "colab_type": "code",
        "colab": {
          "base_uri": "https://localhost:8080/",
          "height": 283
        },
        "outputId": "f05f5c0a-f9f4-4a6c-b345-44cb1a99dbb3"
      },
      "cell_type": "code",
      "source": [
        "# Map label to clothing for convenience\n",
        "label_dict = {\n",
        " 0: 'T-shirt/top',\n",
        " 1: 'Trouser',\n",
        " 2: 'Pullover',\n",
        " 3: 'Dress',\n",
        " 4: 'Coat',\n",
        " 5: 'Sandal',\n",
        " 6: 'Shirt',\n",
        " 7: 'Sneaker',\n",
        " 8: 'Bag',\n",
        " 9: 'Ankle boot'\n",
        "}\n",
        "\n",
        "# sample train image\n",
        "rand_i = random.randint(0,images_train.shape[0])\n",
        "sample = images_train[rand_i].reshape(28,28)\n",
        "# Get label\n",
        "sample_label = labels_train[rand_i]\n",
        "\n",
        "print(\"y = {label_index} ({label})\".format(label_index = sample_label, label = label_dict[sample_label]))\n",
        "\n",
        "plt.imshow(sample, cmap='Greys')\n",
        "plt.show()"
      ],
      "execution_count": 4,
      "outputs": [
        {
          "output_type": "stream",
          "text": [
            "y = 0 (T-shirt/top)\n"
          ],
          "name": "stdout"
        },
        {
          "output_type": "display_data",
          "data": {
            "image/png": "[encoded data removed]",
            "text/plain": [
              "<matplotlib.figure.Figure at 0x7f808acce390>"
            ]
          },
          "metadata": {
            "tags": []
          }
        }
      ]
    },
    {
      "metadata": {
        "id": "4z2Z-VZhtHLD",
        "colab_type": "code",
        "colab": {
          "base_uri": "https://localhost:8080/",
          "height": 266
        },
        "outputId": "f684c410-1dc6-4cff-de78-686f55e85325"
      },
      "cell_type": "code",
      "source": [
        "\n",
        "# sample train image\n",
        "rand_i = random.randint(0,images_train.shape[0])\n",
        "sample = images_train[rand_i].reshape(28,28)\n",
        "# Get label\n",
        "sample_label = labels_train[rand_i]\n",
        "\n",
        "print(\"y = {label_index} ({label})\".format(label_index = sample_label, label = label_dict[sample_label]))\n",
        "\n",
        "plt.grid(None)\n",
        "plt.xticks([])\n",
        "plt.yticks([])\n",
        "plt.imshow(sample, cmap='Greys')\n",
        "plt.show()"
      ],
      "execution_count": 78,
      "outputs": [
        {
          "output_type": "stream",
          "text": [
            "y = 7 (Sneaker)\n"
          ],
          "name": "stdout"
        },
        {
          "output_type": "display_data",
          "data": {
            "image/png": "[encoded data removed]",
            "text/plain": [
              "<matplotlib.figure.Figure at 0x7f8081bac8d0>"
            ]
          },
          "metadata": {
            "tags": []
          }
        }
      ]
    },
    {
      "metadata": {
        "id": "FBnmqFs3NIfw",
        "colab_type": "text"
      },
      "cell_type": "markdown",
      "source": [
        "# Get pretrained model  Inception-v3\n",
        "Trained on ImageNet.\n",
        "OBS - not used for now. See ResNet below instead.\n",
        "\n"
      ]
    },
    {
      "metadata": {
        "id": "1PDEwGnsHYIW",
        "colab_type": "code",
        "colab": {}
      },
      "cell_type": "code",
      "source": [
        "#!git clone https://github.com/tensorflow/models.git\n",
        "#import os\n",
        "\n",
        "# Inception-v3 trained on ImageNet\n",
        "#os.chdir('/content/models/tutorials/image/imagenet')\n",
        "\n",
        "\n",
        "# run classification program to see that it works. Uses image of panda, so that should be the top scorer, ~ 88 %\n",
        "#%run classify_image.py"
      ],
      "execution_count": 0,
      "outputs": []
    },
    {
      "metadata": {
        "id": "llkuh0xQbEeu",
        "colab_type": "text"
      },
      "cell_type": "markdown",
      "source": [
        "# Get ResNet18 via PyTorch\n",
        "Library import copied from https://pytorch.org/tutorials/beginner/transfer_learning_tutorial.html#sphx-glr-beginner-transfer-learning-tutorial-py"
      ]
    },
    {
      "metadata": {
        "id": "c5eJvw0uSxrR",
        "colab_type": "code",
        "colab": {
          "base_uri": "https://localhost:8080/",
          "height": 522
        },
        "outputId": "44e2427b-90e9-497b-8f58-ef2f82a29481"
      },
      "cell_type": "code",
      "source": [
        "!git clone https://github.com/torch/torch.github.io.git\n",
        "!pip3 install http://download.pytorch.org/whl/cu80/torch-0.3.0.post4-cp36-cp36m-linux_x86_64.whl \n",
        "!pip3 install torchvision\n",
        "\n",
        "from __future__ import print_function, division\n",
        "\n",
        "import torch\n",
        "import torch.nn as nn\n",
        "import torch.optim as optim\n",
        "from torch.optim import lr_scheduler\n",
        "from torch.autograd import Variable\n",
        "import numpy as np\n",
        "import torchvision\n",
        "from torchvision import datasets, models, transforms\n",
        "import matplotlib.pyplot as plt\n",
        "import time\n",
        "import os\n",
        "import copy\n",
        "\n",
        "plt.ion()   # interactive mode"
      ],
      "execution_count": 13,
      "outputs": [
        {
          "output_type": "stream",
          "text": [
            "Cloning into 'torch.github.io'...\n",
            "remote: Counting objects: 1771, done.\u001b[K\n",
            "remote: Total 1771 (delta 0), reused 0 (delta 0), pack-reused 1771\u001b[K\n",
            "Receiving objects: 100% (1771/1771), 54.11 MiB | 62.04 MiB/s, done.\n",
            "Resolving deltas: 100% (894/894), done.\n",
            "Collecting torch==0.3.0.post4 from http://download.pytorch.org/whl/cu80/torch-0.3.0.post4-cp36-cp36m-linux_x86_64.whl\n",
            "\u001b[?25l  Downloading http://download.pytorch.org/whl/cu80/torch-0.3.0.post4-cp36-cp36m-linux_x86_64.whl (592.3MB)\n",
            "\u001b[K    80% |█████████████████████████▋      | 474.8MB 52.8MB/s eta 0:00:03"
          ],
          "name": "stdout"
        },
        {
          "output_type": "stream",
          "text": [
            "\u001b[K    100% |████████████████████████████████| 592.3MB 31.1MB/s \n",
            "\u001b[?25hRequirement already satisfied: pyyaml in /usr/local/lib/python3.6/dist-packages (from torch==0.3.0.post4) (3.12)\n",
            "Requirement already satisfied: numpy in /usr/local/lib/python3.6/dist-packages (from torch==0.3.0.post4) (1.14.3)\n",
            "Installing collected packages: torch\n",
            "Successfully installed torch-0.3.0.post4\n",
            "Collecting torchvision\n",
            "\u001b[?25l  Downloading https://files.pythonhosted.org/packages/ca/0d/f00b2885711e08bd71242ebe7b96561e6f6d01fdb4b9dcf4d37e2e13c5e1/torchvision-0.2.1-py2.py3-none-any.whl (54kB)\n",
            "\u001b[K    100% |████████████████████████████████| 61kB 4.1MB/s \n",
            "\u001b[?25hCollecting pillow>=4.1.1 (from torchvision)\n",
            "\u001b[?25l  Downloading https://files.pythonhosted.org/packages/5f/4b/8b54ab9d37b93998c81b364557dff9f61972c0f650efa0ceaf470b392740/Pillow-5.1.0-cp36-cp36m-manylinux1_x86_64.whl (2.0MB)\n",
            "\u001b[K    100% |████████████████████████████████| 2.0MB 10.6MB/s \n",
            "\u001b[?25hRequirement already satisfied: numpy in /usr/local/lib/python3.6/dist-packages (from torchvision) (1.14.3)\n",
            "Requirement already satisfied: torch in /usr/local/lib/python3.6/dist-packages (from torchvision) (0.3.0.post4)\n",
            "Requirement already satisfied: six in /usr/local/lib/python3.6/dist-packages (from torchvision) (1.11.0)\n",
            "Requirement already satisfied: pyyaml in /usr/local/lib/python3.6/dist-packages (from torch->torchvision) (3.12)\n",
            "Installing collected packages: pillow, torchvision\n",
            "  Found existing installation: Pillow 4.0.0\n",
            "    Uninstalling Pillow-4.0.0:\n",
            "      Successfully uninstalled Pillow-4.0.0\n",
            "Successfully installed pillow-5.1.0 torchvision-0.2.1\n"
          ],
          "name": "stdout"
        }
      ]
    },
    {
      "metadata": {
        "id": "aScaH3HJdNQD",
        "colab_type": "code",
        "colab": {
          "base_uri": "https://localhost:8080/",
          "height": 1742
        },
        "outputId": "8871e569-6863-472b-ee06-5eacc0ead5d8"
      },
      "cell_type": "code",
      "source": [
        "from torch.utils.data import Dataset\n",
        "from PIL import Image\n",
        "\n",
        "# Fashion-MNIST help function\n",
        "class FashionMnist(Dataset):\n",
        "  def __init__(self, X, y, transform=None):\n",
        "    self.X = X\n",
        "    self.y = y\n",
        "    self.transform = transform\n",
        "        \n",
        "  def __len__(self):\n",
        "    return len(self.X)\n",
        "    \n",
        "  def __getitem__(self, idx):\n",
        "    sample = Image.fromarray(self.X[idx].reshape(28,28))\n",
        "        \n",
        "    if self.transform:\n",
        "      sample = self.transform(sample)\n",
        "    return sample, self.y[idx]\n",
        "  \n",
        "trans = transforms.Compose([\n",
        "    transforms.Resize(224), \n",
        "    transforms.ToTensor(), \n",
        "    transforms.Normalize([0.485, 0.456, 0.406], [0.229, 0.224, 0.225])\n",
        "])\n",
        "\n",
        "# Create a set containing the Fashion-MNIST data\n",
        "FashionMnist_set = {} \n",
        "FashionMnist_set['train'] = FashionMnist(images_train, labels_train, trans)\n",
        "FashionMnist_set['test'] = FashionMnist(images_test, labels_test, trans)\n",
        "\n",
        "resnet = models.resnet18(pretrained = True)\n",
        "modules = list(resnet.children())[:-1]\n",
        "resnet_ft = nn.Sequential(*modules).cuda()\n",
        "\n",
        "# Have a look at the model\n",
        "print(resnet)\n",
        "\n",
        "BATCH_SIZE = 1 # can take different values\n",
        "\n",
        "dataloaders = {x: torch.utils.data.DataLoader(FashionMnist_set[x], \n",
        "               batch_size=BATCH_SIZE, shuffle=False, num_workers=4) \n",
        "               for x in ['train', 'test']}\n",
        "\n",
        "dataset_sizes = {x: len(FashionMnist_set[x]) for x in ['train', 'test']}\n",
        "\n",
        "inputs, classes = next(iter(dataloaders['train']))\n",
        "\n",
        "# Help function to show image\n",
        "def imshow(inp, title=None):\n",
        "    \"\"\"Imshow for Tensor.\"\"\"\n",
        "    inp = inp.numpy().transpose((1, 2, 0))\n",
        "    mean = np.array([0.485, 0.456, 0.406])\n",
        "    std = np.array([0.229, 0.224, 0.225])\n",
        "    inp = std * inp + mean\n",
        "    inp = np.clip(inp, 0, 1)\n",
        "    plt.imshow(inp)\n",
        "    if title is not None:\n",
        "        plt.title(title)\n",
        "    plt.pause(0.001)  # pause a bit so that plots are updated\n",
        "\n",
        "\n",
        "# Make a grid from batch\n",
        "out = torchvision.utils.make_grid(inputs)\n",
        "\n",
        "imshow(out, title=[label_dict[x] for x in classes])\n"
      ],
      "execution_count": 14,
      "outputs": [
        {
          "output_type": "stream",
          "text": [
            "Downloading: \"https://download.pytorch.org/models/resnet18-5c106cde.pth\" to /content/.torch/models/resnet18-5c106cde.pth\n",
            "13.9%"
          ],
          "name": "stderr"
        },
        {
          "output_type": "stream",
          "text": [
            "100.0%\n"
          ],
          "name": "stderr"
        },
        {
          "output_type": "stream",
          "text": [
            "ResNet(\n",
            "  (conv1): Conv2d (3, 64, kernel_size=(7, 7), stride=(2, 2), padding=(3, 3), bias=False)\n",
            "  (bn1): BatchNorm2d(64, eps=1e-05, momentum=0.1, affine=True)\n",
            "  (relu): ReLU(inplace)\n",
            "  (maxpool): MaxPool2d(kernel_size=(3, 3), stride=(2, 2), padding=(1, 1), dilation=(1, 1))\n",
            "  (layer1): Sequential(\n",
            "    (0): BasicBlock(\n",
            "      (conv1): Conv2d (64, 64, kernel_size=(3, 3), stride=(1, 1), padding=(1, 1), bias=False)\n",
            "      (bn1): BatchNorm2d(64, eps=1e-05, momentum=0.1, affine=True)\n",
            "      (relu): ReLU(inplace)\n",
            "      (conv2): Conv2d (64, 64, kernel_size=(3, 3), stride=(1, 1), padding=(1, 1), bias=False)\n",
            "      (bn2): BatchNorm2d(64, eps=1e-05, momentum=0.1, affine=True)\n",
            "    )\n",
            "    (1): BasicBlock(\n",
            "      (conv1): Conv2d (64, 64, kernel_size=(3, 3), stride=(1, 1), padding=(1, 1), bias=False)\n",
            "      (bn1): BatchNorm2d(64, eps=1e-05, momentum=0.1, affine=True)\n",
            "      (relu): ReLU(inplace)\n",
            "      (conv2): Conv2d (64, 64, kernel_size=(3, 3), stride=(1, 1), padding=(1, 1), bias=False)\n",
            "      (bn2): BatchNorm2d(64, eps=1e-05, momentum=0.1, affine=True)\n",
            "    )\n",
            "  )\n",
            "  (layer2): Sequential(\n",
            "    (0): BasicBlock(\n",
            "      (conv1): Conv2d (64, 128, kernel_size=(3, 3), stride=(2, 2), padding=(1, 1), bias=False)\n",
            "      (bn1): BatchNorm2d(128, eps=1e-05, momentum=0.1, affine=True)\n",
            "      (relu): ReLU(inplace)\n",
            "      (conv2): Conv2d (128, 128, kernel_size=(3, 3), stride=(1, 1), padding=(1, 1), bias=False)\n",
            "      (bn2): BatchNorm2d(128, eps=1e-05, momentum=0.1, affine=True)\n",
            "      (downsample): Sequential(\n",
            "        (0): Conv2d (64, 128, kernel_size=(1, 1), stride=(2, 2), bias=False)\n",
            "        (1): BatchNorm2d(128, eps=1e-05, momentum=0.1, affine=True)\n",
            "      )\n",
            "    )\n",
            "    (1): BasicBlock(\n",
            "      (conv1): Conv2d (128, 128, kernel_size=(3, 3), stride=(1, 1), padding=(1, 1), bias=False)\n",
            "      (bn1): BatchNorm2d(128, eps=1e-05, momentum=0.1, affine=True)\n",
            "      (relu): ReLU(inplace)\n",
            "      (conv2): Conv2d (128, 128, kernel_size=(3, 3), stride=(1, 1), padding=(1, 1), bias=False)\n",
            "      (bn2): BatchNorm2d(128, eps=1e-05, momentum=0.1, affine=True)\n",
            "    )\n",
            "  )\n",
            "  (layer3): Sequential(\n",
            "    (0): BasicBlock(\n",
            "      (conv1): Conv2d (128, 256, kernel_size=(3, 3), stride=(2, 2), padding=(1, 1), bias=False)\n",
            "      (bn1): BatchNorm2d(256, eps=1e-05, momentum=0.1, affine=True)\n",
            "      (relu): ReLU(inplace)\n",
            "      (conv2): Conv2d (256, 256, kernel_size=(3, 3), stride=(1, 1), padding=(1, 1), bias=False)\n",
            "      (bn2): BatchNorm2d(256, eps=1e-05, momentum=0.1, affine=True)\n",
            "      (downsample): Sequential(\n",
            "        (0): Conv2d (128, 256, kernel_size=(1, 1), stride=(2, 2), bias=False)\n",
            "        (1): BatchNorm2d(256, eps=1e-05, momentum=0.1, affine=True)\n",
            "      )\n",
            "    )\n",
            "    (1): BasicBlock(\n",
            "      (conv1): Conv2d (256, 256, kernel_size=(3, 3), stride=(1, 1), padding=(1, 1), bias=False)\n",
            "      (bn1): BatchNorm2d(256, eps=1e-05, momentum=0.1, affine=True)\n",
            "      (relu): ReLU(inplace)\n",
            "      (conv2): Conv2d (256, 256, kernel_size=(3, 3), stride=(1, 1), padding=(1, 1), bias=False)\n",
            "      (bn2): BatchNorm2d(256, eps=1e-05, momentum=0.1, affine=True)\n",
            "    )\n",
            "  )\n",
            "  (layer4): Sequential(\n",
            "    (0): BasicBlock(\n",
            "      (conv1): Conv2d (256, 512, kernel_size=(3, 3), stride=(2, 2), padding=(1, 1), bias=False)\n",
            "      (bn1): BatchNorm2d(512, eps=1e-05, momentum=0.1, affine=True)\n",
            "      (relu): ReLU(inplace)\n",
            "      (conv2): Conv2d (512, 512, kernel_size=(3, 3), stride=(1, 1), padding=(1, 1), bias=False)\n",
            "      (bn2): BatchNorm2d(512, eps=1e-05, momentum=0.1, affine=True)\n",
            "      (downsample): Sequential(\n",
            "        (0): Conv2d (256, 512, kernel_size=(1, 1), stride=(2, 2), bias=False)\n",
            "        (1): BatchNorm2d(512, eps=1e-05, momentum=0.1, affine=True)\n",
            "      )\n",
            "    )\n",
            "    (1): BasicBlock(\n",
            "      (conv1): Conv2d (512, 512, kernel_size=(3, 3), stride=(1, 1), padding=(1, 1), bias=False)\n",
            "      (bn1): BatchNorm2d(512, eps=1e-05, momentum=0.1, affine=True)\n",
            "      (relu): ReLU(inplace)\n",
            "      (conv2): Conv2d (512, 512, kernel_size=(3, 3), stride=(1, 1), padding=(1, 1), bias=False)\n",
            "      (bn2): BatchNorm2d(512, eps=1e-05, momentum=0.1, affine=True)\n",
            "    )\n",
            "  )\n",
            "  (avgpool): AvgPool2d(kernel_size=7, stride=1, padding=0, ceil_mode=False, count_include_pad=True)\n",
            "  (fc): Linear(in_features=512, out_features=1000)\n",
            ")\n"
          ],
          "name": "stdout"
        },
        {
          "output_type": "display_data",
          "data": {
            "image/png": "[encoded data removed]",
            "text/plain": [
              "<matplotlib.figure.Figure at 0x7fe1217657b8>"
            ]
          },
          "metadata": {
            "tags": []
          }
        }
      ]
    },
    {
      "metadata": {
        "id": "CYQJJZB8Mq73",
        "colab_type": "text"
      },
      "cell_type": "markdown",
      "source": [
        "# Use Fashion-MNIST data as input to the pretrained model\n",
        "Note that it takes some time to iterate over all data.\n",
        "CPU is used - exceeds Google Collab free GPU"
      ]
    },
    {
      "metadata": {
        "id": "Ck5AP3rUnG-1",
        "colab_type": "code",
        "colab": {
          "base_uri": "https://localhost:8080/",
          "height": 2431
        },
        "outputId": "21213417-6e73-4715-eb73-0dc265850c04"
      },
      "cell_type": "code",
      "source": [
        "# Features will be saved in this set\n",
        "features = {}\n",
        "features['train'] = []\n",
        "features['test'] = []\n",
        "\n",
        "# Loop through all training data, store features (given by calling pretrained model). 50,000 images - takes time! \n",
        "for i, (images, labels) in enumerate(dataloaders['train']):\n",
        "  if i%500 == 0:\n",
        "    print(i)\n",
        "\n",
        "  images = images.expand(-1, 3, -1,-1)\n",
        "  images = Variable(images).cuda()\n",
        "  features['train'].append(resnet_ft(images).data.cpu().numpy().squeeze())\n",
        "\n",
        "print(\"Done with training data!\")  \n",
        "    \n",
        "# Do same for test data. 10,000 images\n",
        "for i, (images, labels) in enumerate(dataloaders['test']):\n",
        "  if i%500 == 0:\n",
        "    print(i)\n",
        "\n",
        "  images = images.expand(-1, 3, -1,-1)\n",
        "  images = Variable(images).cuda()\n",
        "  features['test'].append(resnet_ft(images).data.cpu().numpy().squeeze())\n",
        "  \n",
        "print(\"Done with test data!\")  \n",
        "\n",
        "features['train'] = np.array(features['train'])  \n",
        "features['test'] = np.array(features['test'])"
      ],
      "execution_count": 15,
      "outputs": [
        {
          "output_type": "stream",
          "text": [
            "0\n",
            "500\n",
            "1000\n",
            "1500\n",
            "2000\n",
            "2500\n",
            "3000\n",
            "3500\n",
            "4000\n",
            "4500\n",
            "5000\n",
            "5500\n",
            "6000\n",
            "6500\n",
            "7000\n",
            "7500\n",
            "8000\n",
            "8500\n",
            "9000\n",
            "9500\n",
            "10000\n",
            "10500\n",
            "11000\n",
            "11500\n",
            "12000\n",
            "12500\n",
            "13000\n",
            "13500\n",
            "14000\n",
            "14500\n",
            "15000\n",
            "15500\n",
            "16000\n",
            "16500\n",
            "17000\n",
            "17500\n",
            "18000\n",
            "18500\n",
            "19000\n",
            "19500\n",
            "20000\n",
            "20500\n",
            "21000\n",
            "21500\n",
            "22000\n",
            "22500\n",
            "23000\n",
            "23500\n",
            "24000\n",
            "24500\n",
            "25000\n",
            "25500\n",
            "26000\n",
            "26500\n",
            "27000\n",
            "27500\n",
            "28000\n",
            "28500\n",
            "29000\n",
            "29500\n",
            "30000\n",
            "30500\n",
            "31000\n",
            "31500\n",
            "32000\n",
            "32500\n",
            "33000\n",
            "33500\n",
            "34000\n",
            "34500\n",
            "35000\n",
            "35500\n",
            "36000\n",
            "36500\n",
            "37000\n",
            "37500\n",
            "38000\n",
            "38500\n",
            "39000\n",
            "39500\n",
            "40000\n",
            "40500\n",
            "41000\n",
            "41500\n",
            "42000\n",
            "42500\n",
            "43000\n",
            "43500\n",
            "44000\n",
            "44500\n",
            "45000\n",
            "45500\n",
            "46000\n",
            "46500\n",
            "47000\n",
            "47500\n",
            "48000\n",
            "48500\n",
            "49000\n",
            "49500\n",
            "50000\n",
            "50500\n",
            "51000\n",
            "51500\n",
            "52000\n",
            "52500\n",
            "53000\n",
            "53500\n",
            "54000\n",
            "54500\n",
            "55000\n",
            "55500\n",
            "56000\n",
            "56500\n",
            "57000\n",
            "57500\n",
            "58000\n",
            "58500\n",
            "59000\n",
            "59500\n",
            "Done with training data!\n",
            "0\n",
            "500\n",
            "1000\n",
            "1500\n",
            "2000\n",
            "2500\n",
            "3000\n",
            "3500\n",
            "4000\n",
            "4500\n",
            "5000\n",
            "5500\n",
            "6000\n",
            "6500\n",
            "7000\n",
            "7500\n",
            "8000\n",
            "8500\n",
            "9000\n",
            "9500\n",
            "Done with test data!\n"
          ],
          "name": "stdout"
        }
      ]
    },
    {
      "metadata": {
        "id": "5LO9J7zVfzII",
        "colab_type": "text"
      },
      "cell_type": "markdown",
      "source": [
        "# Save features"
      ]
    },
    {
      "metadata": {
        "id": "kGqOmgx5X3I8",
        "colab_type": "code",
        "colab": {}
      },
      "cell_type": "code",
      "source": [
        "### Save ResNet features\n",
        "import os\n",
        "if not os.path.isdir(\"ResNet_features\"):\n",
        "    os.mkdir(\"ResNet_features\")\n",
        "    \n",
        "    \n",
        "np.save('ResNet_features/' + 'train_fashion-MNIST_resnet.npy', features['train'])\n",
        "np.save('ResNet_features/' + 'test_fashion-MNIST_resnet.npy', features['test'])\n"
      ],
      "execution_count": 0,
      "outputs": []
    }
  ]
}