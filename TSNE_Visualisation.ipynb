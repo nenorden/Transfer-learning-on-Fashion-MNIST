{
  "nbformat": 4,
  "nbformat_minor": 0,
  "metadata": {
    "colab": {
      "name": "TSNE_Visualisation.ipynb",
      "version": "0.3.2",
      "provenance": [],
      "collapsed_sections": [
        "hCilbRvV-L-3"
      ]
    }
  },
  "cells": [
    {
      "cell_type": "markdown",
      "metadata": {
        "id": "view-in-github",
        "colab_type": "text"
      },
      "source": [
        "[View in Colaboratory](https://colab.research.google.com/github/nenorden/Transfer-learning-on-Fashion-MNIST/blob/master/TSNE_Visualisation.ipynb)"
      ]
    },
    {
      "metadata": {
        "id": "ayK_CGXzsl_9",
        "colab_type": "code",
        "colab": {
          "base_uri": "https://localhost:8080/",
          "height": 34
        },
        "outputId": "b578c0e8-3cc4-4b1c-a58d-c72b6e0e42fc"
      },
      "cell_type": "code",
      "source": [
        "import tensorflow as tf\n",
        "print(tf.test.gpu_device_name())"
      ],
      "execution_count": 25,
      "outputs": [
        {
          "output_type": "stream",
          "text": [
            "\n"
          ],
          "name": "stdout"
        }
      ]
    },
    {
      "metadata": {
        "id": "nnj7t0BBszFn",
        "colab_type": "text"
      },
      "cell_type": "markdown",
      "source": [
        "# Import data\n"
      ]
    },
    {
      "metadata": {
        "id": "in_2lbWusxIz",
        "colab_type": "code",
        "colab": {
          "base_uri": "https://localhost:8080/",
          "height": 136
        },
        "outputId": "13c40b27-183f-49a1-b88c-fd14efb11d2f"
      },
      "cell_type": "code",
      "source": [
        "!git clone https://github.com/zalandoresearch/fashion-mnist.git\n",
        "\n",
        "%matplotlib inline\n",
        "import tensorflow as tf\n",
        "import random\n",
        "import numpy as np\n",
        "import matplotlib.pyplot as plt\n",
        "\n",
        "import os\n",
        "\n",
        "os.chdir('/content/fashion-mnist/')\n",
        "import utils.mnist_reader as mnist_reader\n",
        "os.chdir(\"/\")\n",
        "\n",
        "# train and test data\n",
        "images_train, labels_train = mnist_reader.load_mnist('content/fashion-mnist/data/fashion', kind='train')\n",
        "images_test, labels_test = mnist_reader.load_mnist('content/fashion-mnist/data/fashion', kind='t10k')\n",
        "\n",
        "print(images_train.shape)"
      ],
      "execution_count": 26,
      "outputs": [
        {
          "output_type": "stream",
          "text": [
            "Cloning into 'fashion-mnist'...\n",
            "remote: Counting objects: 609, done.\u001b[K\n",
            "remote: Compressing objects: 100% (6/6), done.\u001b[K\n",
            "remote: Total 609 (delta 3), reused 0 (delta 0), pack-reused 603\u001b[K\n",
            "Receiving objects: 100% (609/609), 105.17 MiB | 62.94 MiB/s, done.\n",
            "Resolving deltas: 100% (345/345), done.\n",
            "(60000, 784)\n"
          ],
          "name": "stdout"
        }
      ]
    },
    {
      "metadata": {
        "id": "hA-y9uC8tDpM",
        "colab_type": "text"
      },
      "cell_type": "markdown",
      "source": [
        "# Import training and test features"
      ]
    },
    {
      "metadata": {
        "id": "_FCL-OIhtGuW",
        "colab_type": "code",
        "colab": {
          "base_uri": "https://localhost:8080/",
          "height": 51
        },
        "outputId": "48b8be2b-c1de-4b08-b2e9-929df225c8fd"
      },
      "cell_type": "code",
      "source": [
        "!pip install -U -q PyDrive\n",
        "\n",
        "from pydrive.auth import GoogleAuth\n",
        "from pydrive.drive import GoogleDrive\n",
        "from google.colab import auth\n",
        "from oauth2client.client import GoogleCredentials\n",
        "\n",
        "# Authenticate\n",
        "auth.authenticate_user()\n",
        "gauth = GoogleAuth()\n",
        "gauth.credentials = GoogleCredentials.get_application_default()\n",
        "drive = GoogleDrive(gauth)\n",
        "\n",
        "train_file_id = '1u9MTHtqwDtHL3z6NHMP8xRJw_54Fag5T'\n",
        "test_file_id = '1kkbjDm6hilfA4PFcxBgRGrN8gcGY6dmn'\n",
        "\n",
        "# Load files by ID\n",
        "os.chdir('/content/')\n",
        "downloaded = drive.CreateFile({'id': train_file_id})\n",
        "downloaded.GetContentFile('train_fashion-MNIST_resnet.npy')\n",
        "\n",
        "downloaded = drive.CreateFile({'id': test_file_id})\n",
        "downloaded.GetContentFile('test_fashion-MNIST_resnet.npy')\n",
        "\n",
        "# Files should be in /content/. Check!\n",
        "os.chdir('/content/')\n",
        "!ls\n",
        "os.chdir('/')"
      ],
      "execution_count": 27,
      "outputs": [
        {
          "output_type": "stream",
          "text": [
            "datalab        test_fashion-MNIST_resnet.npy\r\n",
            "fashion-mnist  train_fashion-MNIST_resnet.npy\r\n"
          ],
          "name": "stdout"
        }
      ]
    },
    {
      "metadata": {
        "id": "kcScZhfatWup",
        "colab_type": "text"
      },
      "cell_type": "markdown",
      "source": [
        "# Have a look at the data\n"
      ]
    },
    {
      "metadata": {
        "id": "BI6tL3PQtYbO",
        "colab_type": "code",
        "colab": {
          "base_uri": "https://localhost:8080/",
          "height": 282
        },
        "outputId": "2843e10a-bcc3-4f64-f348-2659a860ffa9"
      },
      "cell_type": "code",
      "source": [
        "# Map label to clothing for convenience\n",
        "label_dict = {\n",
        " 0: 'T-shirt/top',\n",
        " 1: 'Trouser',\n",
        " 2: 'Pullover',\n",
        " 3: 'Dress',\n",
        " 4: 'Coat',\n",
        " 5: 'Sandal',\n",
        " 6: 'Shirt',\n",
        " 7: 'Sneaker',\n",
        " 8: 'Bag',\n",
        " 9: 'Ankle boot'\n",
        "}\n",
        "\n",
        "# Map labels to colors for PCA visualization \n",
        "color_dict = {\n",
        " 0: 'orange',\n",
        " 1: 'gray',\n",
        " 2: 'blue',\n",
        " 3: 'magenta',\n",
        " 4: 'cyan',\n",
        " 5: 'red',\n",
        " 6: 'lime',\n",
        " 7: 'yellow',\n",
        " 8: 'orchid',\n",
        " 9: 'green'\n",
        "}\n",
        "\n",
        "# sample train image\n",
        "rand_i = random.randint(0,images_train.shape[0])\n",
        "sample = images_train[rand_i].reshape(28,28)\n",
        "# Get label\n",
        "sample_label = labels_train[rand_i]\n",
        "\n",
        "print(\"y = {label_index} ({label})\".format(label_index = sample_label, \n",
        "                                           label = label_dict[sample_label]))\n",
        "\n",
        "plt.imshow(sample, cmap='Greys')\n",
        "plt.show()"
      ],
      "execution_count": 28,
      "outputs": [
        {
          "output_type": "stream",
          "text": [
            "y = 8 (Bag)\n"
          ],
          "name": "stdout"
        },
        {
          "output_type": "display_data",
          "data": {
            "image/png": "[encoded data removed]",
            "text/plain": [
              "<matplotlib.figure.Figure at 0x7f66934880d0>"
            ]
          },
          "metadata": {
            "tags": []
          }
        }
      ]
    },
    {
      "metadata": {
        "id": "hCilbRvV-L-3",
        "colab_type": "text"
      },
      "cell_type": "markdown",
      "source": [
        "# Original features"
      ]
    },
    {
      "metadata": {
        "id": "fyqQpuqXVfBW",
        "colab_type": "text"
      },
      "cell_type": "markdown",
      "source": [
        "## Standardize the data"
      ]
    },
    {
      "metadata": {
        "id": "ubLvC_l2Rfy9",
        "colab_type": "code",
        "colab": {}
      },
      "cell_type": "code",
      "source": [
        "import sklearn\n",
        "import pandas as pd\n",
        "from sklearn.decomposition import PCA\n",
        "from sklearn.preprocessing import StandardScaler\n",
        "%matplotlib inline\n",
        "\n",
        "features_orig = StandardScaler().fit_transform(images_test)"
      ],
      "execution_count": 0,
      "outputs": []
    },
    {
      "metadata": {
        "id": "Ksx5b3l-Vjr-",
        "colab_type": "text"
      },
      "cell_type": "markdown",
      "source": [
        "## Use PCA to reduce features to 50\n"
      ]
    },
    {
      "metadata": {
        "id": "8qbncyLvRntE",
        "colab_type": "code",
        "colab": {
          "base_uri": "https://localhost:8080/",
          "height": 598
        },
        "outputId": "9eb2c3a6-5271-48dc-8d92-f8cd33ad6813"
      },
      "cell_type": "code",
      "source": [
        "# Fit PCA to original features\n",
        "pca_orig = PCA(n_components=50) # 2D projection\n",
        "pca_orig = pca_orig.fit(features_orig)\n",
        "print('Variance explained by the components:', \n",
        "      pca_orig.explained_variance_ratio_)\n",
        "\n",
        "pca_orig = pca_orig.transform(features_orig)\n",
        "\n",
        "pca_orig_df = pd.DataFrame(data = pca_orig)\n",
        "pca_orig_df.head(10) # print 10 first data instances"
      ],
      "execution_count": 31,
      "outputs": [
        {
          "output_type": "stream",
          "text": [
            "('Variance explained by the components:', array([0.22150194, 0.14334186, 0.05487982, 0.05102631, 0.04067312,\n",
            "       0.02993439, 0.02779844, 0.02342661, 0.01745455, 0.01369979,\n",
            "       0.01163369, 0.00983256, 0.00934256, 0.00863632, 0.00833105,\n",
            "       0.00722679, 0.00655852, 0.00640289, 0.00625503, 0.00612849,\n",
            "       0.00565202, 0.00497152, 0.00472121, 0.00460012, 0.00455826,\n",
            "       0.00442114, 0.00429893, 0.00404144, 0.00393657, 0.00385121,\n",
            "       0.00365149, 0.00361522, 0.00351753, 0.00342673, 0.00327613,\n",
            "       0.00321498, 0.0031087 , 0.00303897, 0.0028931 , 0.00276726,\n",
            "       0.00275114, 0.0026711 , 0.00259781, 0.00252776, 0.00249188,\n",
            "       0.00243791, 0.00236327, 0.00227654, 0.00222517, 0.00210762]))\n"
          ],
          "name": "stdout"
        },
        {
          "output_type": "execute_result",
          "data": {
            "text/html": [
              "<div>\n",
              "<style scoped>\n",
              "    .dataframe tbody tr th:only-of-type {\n",
              "        vertical-align: middle;\n",
              "    }\n",
              "\n",
              "    .dataframe tbody tr th {\n",
              "        vertical-align: top;\n",
              "    }\n",
              "\n",
              "    .dataframe thead th {\n",
              "        text-align: right;\n",
              "    }\n",
              "</style>\n",
              "<table border=\"1\" class=\"dataframe\">\n",
              "  <thead>\n",
              "    <tr style=\"text-align: right;\">\n",
              "      <th></th>\n",
              "      <th>0</th>\n",
              "      <th>1</th>\n",
              "      <th>2</th>\n",
              "      <th>3</th>\n",
              "      <th>4</th>\n",
              "      <th>5</th>\n",
              "      <th>6</th>\n",
              "      <th>7</th>\n",
              "      <th>8</th>\n",
              "      <th>9</th>\n",
              "      <th>...</th>\n",
              "      <th>40</th>\n",
              "      <th>41</th>\n",
              "      <th>42</th>\n",
              "      <th>43</th>\n",
              "      <th>44</th>\n",
              "      <th>45</th>\n",
              "      <th>46</th>\n",
              "      <th>47</th>\n",
              "      <th>48</th>\n",
              "      <th>49</th>\n",
              "    </tr>\n",
              "  </thead>\n",
              "  <tbody>\n",
              "    <tr>\n",
              "      <th>0</th>\n",
              "      <td>-16.812930</td>\n",
              "      <td>7.211594</td>\n",
              "      <td>-2.367982</td>\n",
              "      <td>0.084275</td>\n",
              "      <td>-3.706686</td>\n",
              "      <td>1.331407</td>\n",
              "      <td>-3.130314</td>\n",
              "      <td>-3.590662</td>\n",
              "      <td>-2.866073</td>\n",
              "      <td>5.496850</td>\n",
              "      <td>...</td>\n",
              "      <td>-0.222647</td>\n",
              "      <td>-0.170281</td>\n",
              "      <td>0.318459</td>\n",
              "      <td>-0.926053</td>\n",
              "      <td>0.667096</td>\n",
              "      <td>-0.588719</td>\n",
              "      <td>0.215449</td>\n",
              "      <td>2.165183</td>\n",
              "      <td>-1.021387</td>\n",
              "      <td>0.781194</td>\n",
              "    </tr>\n",
              "    <tr>\n",
              "      <th>1</th>\n",
              "      <td>22.272440</td>\n",
              "      <td>9.561994</td>\n",
              "      <td>9.904578</td>\n",
              "      <td>-4.127172</td>\n",
              "      <td>-5.599125</td>\n",
              "      <td>-5.064600</td>\n",
              "      <td>-4.103505</td>\n",
              "      <td>2.565153</td>\n",
              "      <td>-1.256537</td>\n",
              "      <td>0.079706</td>\n",
              "      <td>...</td>\n",
              "      <td>2.878805</td>\n",
              "      <td>-2.243750</td>\n",
              "      <td>0.042217</td>\n",
              "      <td>-0.183214</td>\n",
              "      <td>1.019736</td>\n",
              "      <td>0.338230</td>\n",
              "      <td>-1.126153</td>\n",
              "      <td>0.289242</td>\n",
              "      <td>0.735840</td>\n",
              "      <td>0.563973</td>\n",
              "    </tr>\n",
              "    <tr>\n",
              "      <th>2</th>\n",
              "      <td>3.924990</td>\n",
              "      <td>-16.794870</td>\n",
              "      <td>-8.647227</td>\n",
              "      <td>-1.729656</td>\n",
              "      <td>-0.183761</td>\n",
              "      <td>-6.610197</td>\n",
              "      <td>5.337597</td>\n",
              "      <td>1.222602</td>\n",
              "      <td>-2.134154</td>\n",
              "      <td>4.512439</td>\n",
              "      <td>...</td>\n",
              "      <td>-0.501791</td>\n",
              "      <td>-0.702000</td>\n",
              "      <td>-0.260113</td>\n",
              "      <td>-0.463279</td>\n",
              "      <td>0.472205</td>\n",
              "      <td>-0.153674</td>\n",
              "      <td>-0.843180</td>\n",
              "      <td>-0.116713</td>\n",
              "      <td>-1.124982</td>\n",
              "      <td>0.047564</td>\n",
              "    </tr>\n",
              "    <tr>\n",
              "      <th>3</th>\n",
              "      <td>-4.979114</td>\n",
              "      <td>-16.840440</td>\n",
              "      <td>-3.656624</td>\n",
              "      <td>2.292191</td>\n",
              "      <td>-0.617801</td>\n",
              "      <td>-6.528618</td>\n",
              "      <td>5.637920</td>\n",
              "      <td>0.014134</td>\n",
              "      <td>-1.943958</td>\n",
              "      <td>3.558510</td>\n",
              "      <td>...</td>\n",
              "      <td>0.663412</td>\n",
              "      <td>-1.687347</td>\n",
              "      <td>1.277136</td>\n",
              "      <td>0.325301</td>\n",
              "      <td>0.282177</td>\n",
              "      <td>0.572882</td>\n",
              "      <td>-0.610185</td>\n",
              "      <td>0.166835</td>\n",
              "      <td>0.814361</td>\n",
              "      <td>0.484963</td>\n",
              "    </tr>\n",
              "    <tr>\n",
              "      <th>4</th>\n",
              "      <td>2.306663</td>\n",
              "      <td>-0.354408</td>\n",
              "      <td>5.578455</td>\n",
              "      <td>2.054605</td>\n",
              "      <td>1.306385</td>\n",
              "      <td>-0.436217</td>\n",
              "      <td>-4.477056</td>\n",
              "      <td>-0.332600</td>\n",
              "      <td>-2.769386</td>\n",
              "      <td>-0.240310</td>\n",
              "      <td>...</td>\n",
              "      <td>-1.429614</td>\n",
              "      <td>0.312989</td>\n",
              "      <td>-0.324015</td>\n",
              "      <td>0.127627</td>\n",
              "      <td>1.288126</td>\n",
              "      <td>-1.498042</td>\n",
              "      <td>0.499550</td>\n",
              "      <td>-2.275977</td>\n",
              "      <td>-0.811429</td>\n",
              "      <td>-0.421617</td>\n",
              "    </tr>\n",
              "    <tr>\n",
              "      <th>5</th>\n",
              "      <td>2.365551</td>\n",
              "      <td>-14.854817</td>\n",
              "      <td>-2.580305</td>\n",
              "      <td>0.333687</td>\n",
              "      <td>1.099435</td>\n",
              "      <td>-3.628444</td>\n",
              "      <td>1.284873</td>\n",
              "      <td>-1.238223</td>\n",
              "      <td>-1.116106</td>\n",
              "      <td>3.016188</td>\n",
              "      <td>...</td>\n",
              "      <td>0.656341</td>\n",
              "      <td>-0.882445</td>\n",
              "      <td>-0.810065</td>\n",
              "      <td>0.124239</td>\n",
              "      <td>1.821882</td>\n",
              "      <td>-0.887535</td>\n",
              "      <td>0.018935</td>\n",
              "      <td>-0.803972</td>\n",
              "      <td>0.369097</td>\n",
              "      <td>-0.511017</td>\n",
              "    </tr>\n",
              "    <tr>\n",
              "      <th>6</th>\n",
              "      <td>-11.934192</td>\n",
              "      <td>-7.288529</td>\n",
              "      <td>11.423368</td>\n",
              "      <td>2.669018</td>\n",
              "      <td>0.425467</td>\n",
              "      <td>2.073317</td>\n",
              "      <td>-0.987311</td>\n",
              "      <td>-4.274515</td>\n",
              "      <td>0.616552</td>\n",
              "      <td>-0.588876</td>\n",
              "      <td>...</td>\n",
              "      <td>0.247417</td>\n",
              "      <td>-0.654785</td>\n",
              "      <td>-1.553564</td>\n",
              "      <td>-0.253176</td>\n",
              "      <td>0.860357</td>\n",
              "      <td>-2.244067</td>\n",
              "      <td>-1.667049</td>\n",
              "      <td>0.917256</td>\n",
              "      <td>0.830969</td>\n",
              "      <td>-0.414565</td>\n",
              "    </tr>\n",
              "    <tr>\n",
              "      <th>7</th>\n",
              "      <td>-3.432798</td>\n",
              "      <td>-2.787951</td>\n",
              "      <td>9.707385</td>\n",
              "      <td>0.189733</td>\n",
              "      <td>-3.533977</td>\n",
              "      <td>-1.498609</td>\n",
              "      <td>1.193991</td>\n",
              "      <td>-2.694443</td>\n",
              "      <td>1.523025</td>\n",
              "      <td>-0.158759</td>\n",
              "      <td>...</td>\n",
              "      <td>1.225631</td>\n",
              "      <td>0.517293</td>\n",
              "      <td>-0.166795</td>\n",
              "      <td>1.258751</td>\n",
              "      <td>2.149360</td>\n",
              "      <td>2.185956</td>\n",
              "      <td>1.083648</td>\n",
              "      <td>0.263900</td>\n",
              "      <td>-0.546707</td>\n",
              "      <td>0.466010</td>\n",
              "    </tr>\n",
              "    <tr>\n",
              "      <th>8</th>\n",
              "      <td>-22.128642</td>\n",
              "      <td>-7.147404</td>\n",
              "      <td>7.307483</td>\n",
              "      <td>-1.049429</td>\n",
              "      <td>1.824965</td>\n",
              "      <td>-0.388408</td>\n",
              "      <td>0.944186</td>\n",
              "      <td>1.443166</td>\n",
              "      <td>1.228555</td>\n",
              "      <td>-2.598396</td>\n",
              "      <td>...</td>\n",
              "      <td>-0.731667</td>\n",
              "      <td>-0.074844</td>\n",
              "      <td>0.985885</td>\n",
              "      <td>1.028161</td>\n",
              "      <td>-0.330245</td>\n",
              "      <td>0.077092</td>\n",
              "      <td>-0.526153</td>\n",
              "      <td>-1.018725</td>\n",
              "      <td>1.917468</td>\n",
              "      <td>-0.151431</td>\n",
              "    </tr>\n",
              "    <tr>\n",
              "      <th>9</th>\n",
              "      <td>-19.618175</td>\n",
              "      <td>0.814189</td>\n",
              "      <td>1.732919</td>\n",
              "      <td>-6.529678</td>\n",
              "      <td>3.672650</td>\n",
              "      <td>0.554090</td>\n",
              "      <td>-0.039713</td>\n",
              "      <td>5.614164</td>\n",
              "      <td>2.572888</td>\n",
              "      <td>-4.501987</td>\n",
              "      <td>...</td>\n",
              "      <td>0.327039</td>\n",
              "      <td>1.392162</td>\n",
              "      <td>-1.167120</td>\n",
              "      <td>0.848306</td>\n",
              "      <td>-1.745901</td>\n",
              "      <td>0.978422</td>\n",
              "      <td>-1.862290</td>\n",
              "      <td>-0.652966</td>\n",
              "      <td>0.631445</td>\n",
              "      <td>-1.674368</td>\n",
              "    </tr>\n",
              "  </tbody>\n",
              "</table>\n",
              "<p>10 rows × 50 columns</p>\n",
              "</div>"
            ],
            "text/plain": [
              "          0          1          2         3         4         5         6   \\\n",
              "0 -16.812930   7.211594  -2.367982  0.084275 -3.706686  1.331407 -3.130314   \n",
              "1  22.272440   9.561994   9.904578 -4.127172 -5.599125 -5.064600 -4.103505   \n",
              "2   3.924990 -16.794870  -8.647227 -1.729656 -0.183761 -6.610197  5.337597   \n",
              "3  -4.979114 -16.840440  -3.656624  2.292191 -0.617801 -6.528618  5.637920   \n",
              "4   2.306663  -0.354408   5.578455  2.054605  1.306385 -0.436217 -4.477056   \n",
              "5   2.365551 -14.854817  -2.580305  0.333687  1.099435 -3.628444  1.284873   \n",
              "6 -11.934192  -7.288529  11.423368  2.669018  0.425467  2.073317 -0.987311   \n",
              "7  -3.432798  -2.787951   9.707385  0.189733 -3.533977 -1.498609  1.193991   \n",
              "8 -22.128642  -7.147404   7.307483 -1.049429  1.824965 -0.388408  0.944186   \n",
              "9 -19.618175   0.814189   1.732919 -6.529678  3.672650  0.554090 -0.039713   \n",
              "\n",
              "         7         8         9     ...           40        41        42  \\\n",
              "0 -3.590662 -2.866073  5.496850    ...    -0.222647 -0.170281  0.318459   \n",
              "1  2.565153 -1.256537  0.079706    ...     2.878805 -2.243750  0.042217   \n",
              "2  1.222602 -2.134154  4.512439    ...    -0.501791 -0.702000 -0.260113   \n",
              "3  0.014134 -1.943958  3.558510    ...     0.663412 -1.687347  1.277136   \n",
              "4 -0.332600 -2.769386 -0.240310    ...    -1.429614  0.312989 -0.324015   \n",
              "5 -1.238223 -1.116106  3.016188    ...     0.656341 -0.882445 -0.810065   \n",
              "6 -4.274515  0.616552 -0.588876    ...     0.247417 -0.654785 -1.553564   \n",
              "7 -2.694443  1.523025 -0.158759    ...     1.225631  0.517293 -0.166795   \n",
              "8  1.443166  1.228555 -2.598396    ...    -0.731667 -0.074844  0.985885   \n",
              "9  5.614164  2.572888 -4.501987    ...     0.327039  1.392162 -1.167120   \n",
              "\n",
              "         43        44        45        46        47        48        49  \n",
              "0 -0.926053  0.667096 -0.588719  0.215449  2.165183 -1.021387  0.781194  \n",
              "1 -0.183214  1.019736  0.338230 -1.126153  0.289242  0.735840  0.563973  \n",
              "2 -0.463279  0.472205 -0.153674 -0.843180 -0.116713 -1.124982  0.047564  \n",
              "3  0.325301  0.282177  0.572882 -0.610185  0.166835  0.814361  0.484963  \n",
              "4  0.127627  1.288126 -1.498042  0.499550 -2.275977 -0.811429 -0.421617  \n",
              "5  0.124239  1.821882 -0.887535  0.018935 -0.803972  0.369097 -0.511017  \n",
              "6 -0.253176  0.860357 -2.244067 -1.667049  0.917256  0.830969 -0.414565  \n",
              "7  1.258751  2.149360  2.185956  1.083648  0.263900 -0.546707  0.466010  \n",
              "8  1.028161 -0.330245  0.077092 -0.526153 -1.018725  1.917468 -0.151431  \n",
              "9  0.848306 -1.745901  0.978422 -1.862290 -0.652966  0.631445 -1.674368  \n",
              "\n",
              "[10 rows x 50 columns]"
            ]
          },
          "metadata": {
            "tags": []
          },
          "execution_count": 31
        }
      ]
    },
    {
      "metadata": {
        "id": "DiEadF94VoU-",
        "colab_type": "text"
      },
      "cell_type": "markdown",
      "source": [
        "## Use t-SNE to reduce dimensions to 2\n"
      ]
    },
    {
      "metadata": {
        "id": "iJAXqeylR-GN",
        "colab_type": "code",
        "colab": {
          "base_uri": "https://localhost:8080/",
          "height": 648
        },
        "outputId": "c4e8bc6d-e622-4758-a529-2cb705466b66"
      },
      "cell_type": "code",
      "source": [
        "import time\n",
        "\n",
        "from sklearn.manifold import TSNE\n",
        "\n",
        "\n",
        "\n",
        "time_start = time.time()\n",
        "tsne_orig = TSNE(n_components=2, verbose=1, perplexity=40, n_iter=300)\n",
        "tsne_orig_results = tsne.fit_transform(pca_orig_df)\n",
        "\n",
        "print 't-SNE done! Time elapsed: {} seconds'.format(time.time()-time_start)\n",
        "\n",
        "tsne_orig_resnet_df = pd.DataFrame(data = tsne_orig_results)\n",
        "tsne_orig_resnet_df.head(10)"
      ],
      "execution_count": 34,
      "outputs": [
        {
          "output_type": "stream",
          "text": [
            "[t-SNE] Computing 121 nearest neighbors...\n",
            "[t-SNE] Indexed 10000 samples in 0.021s...\n",
            "[t-SNE] Computed neighbors for 10000 samples in 6.376s...\n",
            "[t-SNE] Computed conditional probabilities for sample 1000 / 10000\n",
            "[t-SNE] Computed conditional probabilities for sample 2000 / 10000\n",
            "[t-SNE] Computed conditional probabilities for sample 3000 / 10000\n",
            "[t-SNE] Computed conditional probabilities for sample 4000 / 10000\n",
            "[t-SNE] Computed conditional probabilities for sample 5000 / 10000\n",
            "[t-SNE] Computed conditional probabilities for sample 6000 / 10000\n",
            "[t-SNE] Computed conditional probabilities for sample 7000 / 10000\n",
            "[t-SNE] Computed conditional probabilities for sample 8000 / 10000\n",
            "[t-SNE] Computed conditional probabilities for sample 9000 / 10000\n",
            "[t-SNE] Computed conditional probabilities for sample 10000 / 10000\n",
            "[t-SNE] Mean sigma: 4.409437\n",
            "[t-SNE] KL divergence after 250 iterations with early exaggeration: 76.495316\n",
            "[t-SNE] Error after 300 iterations: 2.540798\n",
            "t-SNE done! Time elapsed: 121.276817083 seconds\n"
          ],
          "name": "stdout"
        },
        {
          "output_type": "execute_result",
          "data": {
            "text/html": [
              "<div>\n",
              "<style scoped>\n",
              "    .dataframe tbody tr th:only-of-type {\n",
              "        vertical-align: middle;\n",
              "    }\n",
              "\n",
              "    .dataframe tbody tr th {\n",
              "        vertical-align: top;\n",
              "    }\n",
              "\n",
              "    .dataframe thead th {\n",
              "        text-align: right;\n",
              "    }\n",
              "</style>\n",
              "<table border=\"1\" class=\"dataframe\">\n",
              "  <thead>\n",
              "    <tr style=\"text-align: right;\">\n",
              "      <th></th>\n",
              "      <th>0</th>\n",
              "      <th>1</th>\n",
              "    </tr>\n",
              "  </thead>\n",
              "  <tbody>\n",
              "    <tr>\n",
              "      <th>0</th>\n",
              "      <td>6.053428</td>\n",
              "      <td>-2.506540</td>\n",
              "    </tr>\n",
              "    <tr>\n",
              "      <th>1</th>\n",
              "      <td>-7.970460</td>\n",
              "      <td>-6.405619</td>\n",
              "    </tr>\n",
              "    <tr>\n",
              "      <th>2</th>\n",
              "      <td>0.541089</td>\n",
              "      <td>10.842575</td>\n",
              "    </tr>\n",
              "    <tr>\n",
              "      <th>3</th>\n",
              "      <td>3.686247</td>\n",
              "      <td>8.060122</td>\n",
              "    </tr>\n",
              "    <tr>\n",
              "      <th>4</th>\n",
              "      <td>-2.917864</td>\n",
              "      <td>-1.894556</td>\n",
              "    </tr>\n",
              "    <tr>\n",
              "      <th>5</th>\n",
              "      <td>0.523678</td>\n",
              "      <td>8.880365</td>\n",
              "    </tr>\n",
              "    <tr>\n",
              "      <th>6</th>\n",
              "      <td>0.388480</td>\n",
              "      <td>0.990736</td>\n",
              "    </tr>\n",
              "    <tr>\n",
              "      <th>7</th>\n",
              "      <td>-2.037847</td>\n",
              "      <td>-0.328862</td>\n",
              "    </tr>\n",
              "    <tr>\n",
              "      <th>8</th>\n",
              "      <td>1.347522</td>\n",
              "      <td>-10.022562</td>\n",
              "    </tr>\n",
              "    <tr>\n",
              "      <th>9</th>\n",
              "      <td>4.708883</td>\n",
              "      <td>-9.092644</td>\n",
              "    </tr>\n",
              "  </tbody>\n",
              "</table>\n",
              "</div>"
            ],
            "text/plain": [
              "          0          1\n",
              "0  6.053428  -2.506540\n",
              "1 -7.970460  -6.405619\n",
              "2  0.541089  10.842575\n",
              "3  3.686247   8.060122\n",
              "4 -2.917864  -1.894556\n",
              "5  0.523678   8.880365\n",
              "6  0.388480   0.990736\n",
              "7 -2.037847  -0.328862\n",
              "8  1.347522 -10.022562\n",
              "9  4.708883  -9.092644"
            ]
          },
          "metadata": {
            "tags": []
          },
          "execution_count": 34
        }
      ]
    },
    {
      "metadata": {
        "id": "S0yNl59rV8Bp",
        "colab_type": "text"
      },
      "cell_type": "markdown",
      "source": [
        "## Plot the data obtained from t-SNE\n"
      ]
    },
    {
      "metadata": {
        "id": "4SLqxE4KSTp-",
        "colab_type": "code",
        "colab": {
          "base_uri": "https://localhost:8080/",
          "height": 283
        },
        "outputId": "0a07426f-5f2d-4373-bf41-dee20864e89c"
      },
      "cell_type": "code",
      "source": [
        "# Plot principal components\n",
        "fig = plt.figure()\n",
        "ax = fig.add_subplot(1,1,1)\n",
        "ax.set_xlabel('Component 1', fontsize = 15)\n",
        "ax.set_ylabel('Component 2', fontsize = 15)\n",
        "ax.set_aspect('equal')\n",
        "#ax.set_title('2 Component PCA on ResNet18-extracted features', fontsize = 20)\n",
        "\n",
        "for i in range(len(tsne_orig_results)):\n",
        "  ax.scatter(tsne_orig_results[i][0], tsne_orig_results[i][1], \n",
        "             color = color_dict[labels_test[i]], alpha = 0.7)\n",
        "\n",
        "plt.show()"
      ],
      "execution_count": 35,
      "outputs": [
        {
          "output_type": "display_data",
          "data": {
            "image/png": "[encoded data removed]",
            "text/plain": [
              "<matplotlib.figure.Figure at 0x7f668a98db10>"
            ]
          },
          "metadata": {
            "tags": []
          }
        }
      ]
    },
    {
      "metadata": {
        "id": "wRH1T2uMUUjT",
        "colab_type": "text"
      },
      "cell_type": "markdown",
      "source": [
        "# ResNet features\n"
      ]
    },
    {
      "metadata": {
        "id": "G09gcg5mwNLL",
        "colab_type": "code",
        "colab": {
          "base_uri": "https://localhost:8080/",
          "height": 51
        },
        "outputId": "e1c713a4-ca89-48e5-83db-b64735192c5e"
      },
      "cell_type": "code",
      "source": [
        "os.chdir('/content/')\n",
        "!ls\n",
        "os.chdir('/')\n",
        "\n",
        "%matplotlib inline\n",
        "import tensorflow as tf\n",
        "import random\n",
        "import numpy as np\n",
        "import matplotlib.pyplot as plt\n",
        "\n",
        "os.chdir('/content/')\n",
        "resnet_train = np.load('train_fashion-MNIST_resnet.npy')\n",
        "resnet_test = np.load('test_fashion-MNIST_resnet.npy')\n",
        "os.chdir('/')"
      ],
      "execution_count": 15,
      "outputs": [
        {
          "output_type": "stream",
          "text": [
            "datalab        test_fashion-MNIST_resnet.npy\r\n",
            "fashion-mnist  train_fashion-MNIST_resnet.npy\r\n"
          ],
          "name": "stdout"
        }
      ]
    },
    {
      "metadata": {
        "id": "C-O0oF4Z4yNr",
        "colab_type": "text"
      },
      "cell_type": "markdown",
      "source": [
        "## Standardize data\n"
      ]
    },
    {
      "metadata": {
        "id": "NG6BEUyH4TSA",
        "colab_type": "code",
        "colab": {}
      },
      "cell_type": "code",
      "source": [
        "import sklearn\n",
        "import pandas as pd\n",
        "from sklearn.decomposition import PCA\n",
        "from sklearn.preprocessing import StandardScaler\n",
        "%matplotlib inline\n",
        "\n",
        "features_resnet = StandardScaler().fit_transform(resnet_test)"
      ],
      "execution_count": 0,
      "outputs": []
    },
    {
      "metadata": {
        "id": "zPu-JBYX4UFG",
        "colab_type": "text"
      },
      "cell_type": "markdown",
      "source": [
        "## Reduce number of features with PCA\n",
        "\n"
      ]
    },
    {
      "metadata": {
        "id": "r955PKAG44t_",
        "colab_type": "code",
        "colab": {
          "base_uri": "https://localhost:8080/",
          "height": 615
        },
        "outputId": "f669084c-25cb-4cb3-a8b9-4d23325acd72"
      },
      "cell_type": "code",
      "source": [
        "pca_resnet = PCA(n_components=50) # 2D projection\n",
        "pca_resnet = pca_resnet.fit(features_resnet)\n",
        "print('Variance explained by the two components: \\n', \n",
        "      pca_resnet.explained_variance_ratio_)\n",
        "pca_resnet = pca_resnet.transform(features_resnet)\n",
        "\n",
        "pca_resnet_df = pd.DataFrame(data = pca_resnet)\n",
        "pca_resnet_df.head(10)\n"
      ],
      "execution_count": 20,
      "outputs": [
        {
          "output_type": "stream",
          "text": [
            "('Variance explained by the two components: \\n', array([0.02660286, 0.0148432 , 0.01273873, 0.00785521, 0.00711863,\n",
            "       0.00677099, 0.00611411, 0.00522705, 0.00481287, 0.00429501,\n",
            "       0.00408579, 0.0039185 , 0.00378224, 0.00368261, 0.00348589,\n",
            "       0.0034208 , 0.00336097, 0.00331267, 0.00327946, 0.00319147,\n",
            "       0.00316086, 0.00305232, 0.00304415, 0.0030121 , 0.00300421,\n",
            "       0.00295019, 0.00290278, 0.00283704, 0.00280093, 0.00279433,\n",
            "       0.00276507, 0.0027435 , 0.00271298, 0.00268287, 0.00265097,\n",
            "       0.0026397 , 0.00262378, 0.00261565, 0.00260514, 0.00258959,\n",
            "       0.00257624, 0.00255501, 0.00252464, 0.00251487, 0.00249976,\n",
            "       0.00248026, 0.00247826, 0.00246816, 0.00244718, 0.00242566],\n",
            "      dtype=float32))\n"
          ],
          "name": "stdout"
        },
        {
          "output_type": "execute_result",
          "data": {
            "text/html": [
              "<div>\n",
              "<style scoped>\n",
              "    .dataframe tbody tr th:only-of-type {\n",
              "        vertical-align: middle;\n",
              "    }\n",
              "\n",
              "    .dataframe tbody tr th {\n",
              "        vertical-align: top;\n",
              "    }\n",
              "\n",
              "    .dataframe thead th {\n",
              "        text-align: right;\n",
              "    }\n",
              "</style>\n",
              "<table border=\"1\" class=\"dataframe\">\n",
              "  <thead>\n",
              "    <tr style=\"text-align: right;\">\n",
              "      <th></th>\n",
              "      <th>0</th>\n",
              "      <th>1</th>\n",
              "      <th>2</th>\n",
              "      <th>3</th>\n",
              "      <th>4</th>\n",
              "      <th>5</th>\n",
              "      <th>6</th>\n",
              "      <th>7</th>\n",
              "      <th>8</th>\n",
              "      <th>9</th>\n",
              "      <th>...</th>\n",
              "      <th>40</th>\n",
              "      <th>41</th>\n",
              "      <th>42</th>\n",
              "      <th>43</th>\n",
              "      <th>44</th>\n",
              "      <th>45</th>\n",
              "      <th>46</th>\n",
              "      <th>47</th>\n",
              "      <th>48</th>\n",
              "      <th>49</th>\n",
              "    </tr>\n",
              "  </thead>\n",
              "  <tbody>\n",
              "    <tr>\n",
              "      <th>0</th>\n",
              "      <td>7.436506</td>\n",
              "      <td>-0.312493</td>\n",
              "      <td>-3.077443</td>\n",
              "      <td>3.134808</td>\n",
              "      <td>0.167275</td>\n",
              "      <td>-0.693810</td>\n",
              "      <td>-0.272962</td>\n",
              "      <td>0.698134</td>\n",
              "      <td>0.243373</td>\n",
              "      <td>0.347948</td>\n",
              "      <td>...</td>\n",
              "      <td>-1.247136</td>\n",
              "      <td>-0.597676</td>\n",
              "      <td>-0.442248</td>\n",
              "      <td>-0.049748</td>\n",
              "      <td>1.998954</td>\n",
              "      <td>1.006209</td>\n",
              "      <td>-0.570016</td>\n",
              "      <td>-0.136028</td>\n",
              "      <td>-0.219830</td>\n",
              "      <td>1.189434</td>\n",
              "    </tr>\n",
              "    <tr>\n",
              "      <th>1</th>\n",
              "      <td>-5.491250</td>\n",
              "      <td>-2.933233</td>\n",
              "      <td>2.973933</td>\n",
              "      <td>0.890776</td>\n",
              "      <td>0.183507</td>\n",
              "      <td>-2.777445</td>\n",
              "      <td>-1.474424</td>\n",
              "      <td>-1.744108</td>\n",
              "      <td>-2.861029</td>\n",
              "      <td>-1.113804</td>\n",
              "      <td>...</td>\n",
              "      <td>-3.651423</td>\n",
              "      <td>0.838561</td>\n",
              "      <td>-1.269660</td>\n",
              "      <td>-1.107578</td>\n",
              "      <td>3.080417</td>\n",
              "      <td>-0.110566</td>\n",
              "      <td>-0.503588</td>\n",
              "      <td>-1.679597</td>\n",
              "      <td>0.114720</td>\n",
              "      <td>1.450112</td>\n",
              "    </tr>\n",
              "    <tr>\n",
              "      <th>2</th>\n",
              "      <td>-1.461529</td>\n",
              "      <td>5.003457</td>\n",
              "      <td>-0.274040</td>\n",
              "      <td>3.441006</td>\n",
              "      <td>1.434285</td>\n",
              "      <td>-1.577330</td>\n",
              "      <td>-2.023102</td>\n",
              "      <td>1.084327</td>\n",
              "      <td>1.692109</td>\n",
              "      <td>-0.737391</td>\n",
              "      <td>...</td>\n",
              "      <td>-0.175304</td>\n",
              "      <td>-0.252783</td>\n",
              "      <td>1.501969</td>\n",
              "      <td>1.085262</td>\n",
              "      <td>0.321557</td>\n",
              "      <td>0.624752</td>\n",
              "      <td>0.438845</td>\n",
              "      <td>1.164880</td>\n",
              "      <td>0.334692</td>\n",
              "      <td>-0.464492</td>\n",
              "    </tr>\n",
              "    <tr>\n",
              "      <th>3</th>\n",
              "      <td>-0.633141</td>\n",
              "      <td>6.759012</td>\n",
              "      <td>0.814939</td>\n",
              "      <td>0.795334</td>\n",
              "      <td>-0.354889</td>\n",
              "      <td>-0.861884</td>\n",
              "      <td>0.495347</td>\n",
              "      <td>-0.220779</td>\n",
              "      <td>-1.683369</td>\n",
              "      <td>-0.260294</td>\n",
              "      <td>...</td>\n",
              "      <td>-0.843428</td>\n",
              "      <td>2.953231</td>\n",
              "      <td>0.907868</td>\n",
              "      <td>0.266575</td>\n",
              "      <td>1.338030</td>\n",
              "      <td>-0.677623</td>\n",
              "      <td>-0.786959</td>\n",
              "      <td>0.422675</td>\n",
              "      <td>0.459517</td>\n",
              "      <td>0.435763</td>\n",
              "    </tr>\n",
              "    <tr>\n",
              "      <th>4</th>\n",
              "      <td>-2.251143</td>\n",
              "      <td>-1.401333</td>\n",
              "      <td>-2.337668</td>\n",
              "      <td>-0.373718</td>\n",
              "      <td>2.324663</td>\n",
              "      <td>0.393886</td>\n",
              "      <td>-0.696110</td>\n",
              "      <td>1.400469</td>\n",
              "      <td>0.436151</td>\n",
              "      <td>1.134492</td>\n",
              "      <td>...</td>\n",
              "      <td>0.940449</td>\n",
              "      <td>0.695205</td>\n",
              "      <td>-2.738972</td>\n",
              "      <td>0.243702</td>\n",
              "      <td>0.266822</td>\n",
              "      <td>1.113590</td>\n",
              "      <td>-0.363178</td>\n",
              "      <td>0.552166</td>\n",
              "      <td>-0.805668</td>\n",
              "      <td>1.394992</td>\n",
              "    </tr>\n",
              "    <tr>\n",
              "      <th>5</th>\n",
              "      <td>-2.025562</td>\n",
              "      <td>5.875877</td>\n",
              "      <td>0.149912</td>\n",
              "      <td>2.577952</td>\n",
              "      <td>0.850823</td>\n",
              "      <td>0.099166</td>\n",
              "      <td>-0.329206</td>\n",
              "      <td>0.114125</td>\n",
              "      <td>1.323025</td>\n",
              "      <td>0.376690</td>\n",
              "      <td>...</td>\n",
              "      <td>-0.939648</td>\n",
              "      <td>0.593116</td>\n",
              "      <td>1.576483</td>\n",
              "      <td>-1.337239</td>\n",
              "      <td>-0.641275</td>\n",
              "      <td>1.973320</td>\n",
              "      <td>0.607010</td>\n",
              "      <td>-0.378915</td>\n",
              "      <td>-2.293706</td>\n",
              "      <td>-0.056763</td>\n",
              "    </tr>\n",
              "    <tr>\n",
              "      <th>6</th>\n",
              "      <td>-1.459790</td>\n",
              "      <td>-1.445833</td>\n",
              "      <td>-0.894282</td>\n",
              "      <td>-1.671237</td>\n",
              "      <td>-0.912309</td>\n",
              "      <td>-1.911403</td>\n",
              "      <td>-1.141917</td>\n",
              "      <td>-1.132242</td>\n",
              "      <td>-1.124841</td>\n",
              "      <td>1.637469</td>\n",
              "      <td>...</td>\n",
              "      <td>1.596660</td>\n",
              "      <td>0.925865</td>\n",
              "      <td>-0.131701</td>\n",
              "      <td>0.379353</td>\n",
              "      <td>-2.031601</td>\n",
              "      <td>-0.966357</td>\n",
              "      <td>0.014660</td>\n",
              "      <td>-1.034844</td>\n",
              "      <td>-2.198756</td>\n",
              "      <td>0.816588</td>\n",
              "    </tr>\n",
              "    <tr>\n",
              "      <th>7</th>\n",
              "      <td>-1.611510</td>\n",
              "      <td>-0.334642</td>\n",
              "      <td>-1.209189</td>\n",
              "      <td>-0.701375</td>\n",
              "      <td>-1.425371</td>\n",
              "      <td>-2.051072</td>\n",
              "      <td>1.019718</td>\n",
              "      <td>0.378813</td>\n",
              "      <td>3.318506</td>\n",
              "      <td>-0.089323</td>\n",
              "      <td>...</td>\n",
              "      <td>-0.569719</td>\n",
              "      <td>-1.025272</td>\n",
              "      <td>0.334508</td>\n",
              "      <td>-0.282521</td>\n",
              "      <td>0.485831</td>\n",
              "      <td>0.314808</td>\n",
              "      <td>1.425234</td>\n",
              "      <td>-0.480439</td>\n",
              "      <td>0.149707</td>\n",
              "      <td>-2.875454</td>\n",
              "    </tr>\n",
              "    <tr>\n",
              "      <th>8</th>\n",
              "      <td>5.824293</td>\n",
              "      <td>1.438096</td>\n",
              "      <td>1.330738</td>\n",
              "      <td>-3.979008</td>\n",
              "      <td>2.127340</td>\n",
              "      <td>0.328470</td>\n",
              "      <td>-2.749615</td>\n",
              "      <td>-0.079190</td>\n",
              "      <td>0.039085</td>\n",
              "      <td>2.761010</td>\n",
              "      <td>...</td>\n",
              "      <td>0.304999</td>\n",
              "      <td>1.357675</td>\n",
              "      <td>-1.661690</td>\n",
              "      <td>2.268410</td>\n",
              "      <td>0.087463</td>\n",
              "      <td>0.658475</td>\n",
              "      <td>-1.575047</td>\n",
              "      <td>1.320405</td>\n",
              "      <td>-0.050067</td>\n",
              "      <td>0.922376</td>\n",
              "    </tr>\n",
              "    <tr>\n",
              "      <th>9</th>\n",
              "      <td>8.520095</td>\n",
              "      <td>-0.468892</td>\n",
              "      <td>2.689400</td>\n",
              "      <td>-3.066860</td>\n",
              "      <td>0.920178</td>\n",
              "      <td>1.051682</td>\n",
              "      <td>0.283508</td>\n",
              "      <td>-0.107484</td>\n",
              "      <td>-0.640879</td>\n",
              "      <td>-2.269098</td>\n",
              "      <td>...</td>\n",
              "      <td>0.340245</td>\n",
              "      <td>1.251790</td>\n",
              "      <td>0.734774</td>\n",
              "      <td>-1.886611</td>\n",
              "      <td>0.004766</td>\n",
              "      <td>-1.688964</td>\n",
              "      <td>-0.239600</td>\n",
              "      <td>-0.103728</td>\n",
              "      <td>0.454397</td>\n",
              "      <td>-2.028429</td>\n",
              "    </tr>\n",
              "  </tbody>\n",
              "</table>\n",
              "<p>10 rows × 50 columns</p>\n",
              "</div>"
            ],
            "text/plain": [
              "         0         1         2         3         4         5         6   \\\n",
              "0  7.436506 -0.312493 -3.077443  3.134808  0.167275 -0.693810 -0.272962   \n",
              "1 -5.491250 -2.933233  2.973933  0.890776  0.183507 -2.777445 -1.474424   \n",
              "2 -1.461529  5.003457 -0.274040  3.441006  1.434285 -1.577330 -2.023102   \n",
              "3 -0.633141  6.759012  0.814939  0.795334 -0.354889 -0.861884  0.495347   \n",
              "4 -2.251143 -1.401333 -2.337668 -0.373718  2.324663  0.393886 -0.696110   \n",
              "5 -2.025562  5.875877  0.149912  2.577952  0.850823  0.099166 -0.329206   \n",
              "6 -1.459790 -1.445833 -0.894282 -1.671237 -0.912309 -1.911403 -1.141917   \n",
              "7 -1.611510 -0.334642 -1.209189 -0.701375 -1.425371 -2.051072  1.019718   \n",
              "8  5.824293  1.438096  1.330738 -3.979008  2.127340  0.328470 -2.749615   \n",
              "9  8.520095 -0.468892  2.689400 -3.066860  0.920178  1.051682  0.283508   \n",
              "\n",
              "         7         8         9     ...           40        41        42  \\\n",
              "0  0.698134  0.243373  0.347948    ...    -1.247136 -0.597676 -0.442248   \n",
              "1 -1.744108 -2.861029 -1.113804    ...    -3.651423  0.838561 -1.269660   \n",
              "2  1.084327  1.692109 -0.737391    ...    -0.175304 -0.252783  1.501969   \n",
              "3 -0.220779 -1.683369 -0.260294    ...    -0.843428  2.953231  0.907868   \n",
              "4  1.400469  0.436151  1.134492    ...     0.940449  0.695205 -2.738972   \n",
              "5  0.114125  1.323025  0.376690    ...    -0.939648  0.593116  1.576483   \n",
              "6 -1.132242 -1.124841  1.637469    ...     1.596660  0.925865 -0.131701   \n",
              "7  0.378813  3.318506 -0.089323    ...    -0.569719 -1.025272  0.334508   \n",
              "8 -0.079190  0.039085  2.761010    ...     0.304999  1.357675 -1.661690   \n",
              "9 -0.107484 -0.640879 -2.269098    ...     0.340245  1.251790  0.734774   \n",
              "\n",
              "         43        44        45        46        47        48        49  \n",
              "0 -0.049748  1.998954  1.006209 -0.570016 -0.136028 -0.219830  1.189434  \n",
              "1 -1.107578  3.080417 -0.110566 -0.503588 -1.679597  0.114720  1.450112  \n",
              "2  1.085262  0.321557  0.624752  0.438845  1.164880  0.334692 -0.464492  \n",
              "3  0.266575  1.338030 -0.677623 -0.786959  0.422675  0.459517  0.435763  \n",
              "4  0.243702  0.266822  1.113590 -0.363178  0.552166 -0.805668  1.394992  \n",
              "5 -1.337239 -0.641275  1.973320  0.607010 -0.378915 -2.293706 -0.056763  \n",
              "6  0.379353 -2.031601 -0.966357  0.014660 -1.034844 -2.198756  0.816588  \n",
              "7 -0.282521  0.485831  0.314808  1.425234 -0.480439  0.149707 -2.875454  \n",
              "8  2.268410  0.087463  0.658475 -1.575047  1.320405 -0.050067  0.922376  \n",
              "9 -1.886611  0.004766 -1.688964 -0.239600 -0.103728  0.454397 -2.028429  \n",
              "\n",
              "[10 rows x 50 columns]"
            ]
          },
          "metadata": {
            "tags": []
          },
          "execution_count": 20
        }
      ]
    },
    {
      "metadata": {
        "id": "awSnLPNTAZ0O",
        "colab_type": "text"
      },
      "cell_type": "markdown",
      "source": [
        "## t-SNE"
      ]
    },
    {
      "metadata": {
        "id": "ro2IdtBRAbHY",
        "colab_type": "code",
        "colab": {
          "base_uri": "https://localhost:8080/",
          "height": 521
        },
        "outputId": "11f7bac0-219d-43ad-afe9-2dc7e09e90fc"
      },
      "cell_type": "code",
      "source": [
        "import time\n",
        "\n",
        "from sklearn.manifold import TSNE\n",
        "\n",
        "\n",
        "\n",
        "time_start = time.time()\n",
        "tsne = TSNE(n_components=2, verbose=1, perplexity=40, n_iter=300)\n",
        "tsne_results = tsne.fit_transform(pca_resnet_df)\n",
        "\n",
        "print 't-SNE done! Time elapsed: {} seconds'.format(time.time()-time_start)\n",
        "\n",
        "tsne_resnet_df = pd.DataFrame(data = tsne_results)\n",
        "tsne_resnet_df.head(10)\n",
        "\n"
      ],
      "execution_count": 23,
      "outputs": [
        {
          "output_type": "stream",
          "text": [
            "[t-SNE] Computing 121 nearest neighbors...\n",
            "[t-SNE] Indexed 10000 samples in 0.025s...\n",
            "[t-SNE] Computed neighbors for 10000 samples in 11.376s...\n",
            "[t-SNE] Computed conditional probabilities for sample 1000 / 10000\n",
            "[t-SNE] Computed conditional probabilities for sample 2000 / 10000\n",
            "[t-SNE] Computed conditional probabilities for sample 3000 / 10000\n",
            "[t-SNE] Computed conditional probabilities for sample 4000 / 10000\n",
            "[t-SNE] Computed conditional probabilities for sample 5000 / 10000\n",
            "[t-SNE] Computed conditional probabilities for sample 6000 / 10000\n",
            "[t-SNE] Computed conditional probabilities for sample 7000 / 10000\n",
            "[t-SNE] Computed conditional probabilities for sample 8000 / 10000\n",
            "[t-SNE] Computed conditional probabilities for sample 9000 / 10000\n",
            "[t-SNE] Computed conditional probabilities for sample 10000 / 10000\n",
            "[t-SNE] Mean sigma: 2.719643\n",
            "[t-SNE] KL divergence after 250 iterations with early exaggeration: 86.868286\n",
            "[t-SNE] Error after 300 iterations: 3.280149\n",
            "t-SNE done! Time elapsed: 139.855628014 seconds\n"
          ],
          "name": "stdout"
        },
        {
          "output_type": "error",
          "ename": "NameError",
          "evalue": "ignored",
          "traceback": [
            "\u001b[0;31m\u001b[0m",
            "\u001b[0;31mNameError\u001b[0mTraceback (most recent call last)",
            "\u001b[0;32m<ipython-input-23-00db9fbac997>\u001b[0m in \u001b[0;36m<module>\u001b[0;34m()\u001b[0m\n\u001b[1;32m     11\u001b[0m \u001b[0;32mprint\u001b[0m \u001b[0;34m't-SNE done! Time elapsed: {} seconds'\u001b[0m\u001b[0;34m.\u001b[0m\u001b[0mformat\u001b[0m\u001b[0;34m(\u001b[0m\u001b[0mtime\u001b[0m\u001b[0;34m.\u001b[0m\u001b[0mtime\u001b[0m\u001b[0;34m(\u001b[0m\u001b[0;34m)\u001b[0m\u001b[0;34m-\u001b[0m\u001b[0mtime_start\u001b[0m\u001b[0;34m)\u001b[0m\u001b[0;34m\u001b[0m\u001b[0m\n\u001b[1;32m     12\u001b[0m \u001b[0;34m\u001b[0m\u001b[0m\n\u001b[0;32m---> 13\u001b[0;31m \u001b[0mtsne_resnet_df\u001b[0m \u001b[0;34m=\u001b[0m \u001b[0mpd\u001b[0m\u001b[0;34m.\u001b[0m\u001b[0mDataFrame\u001b[0m\u001b[0;34m(\u001b[0m\u001b[0mdata\u001b[0m \u001b[0;34m=\u001b[0m \u001b[0mtsne_result\u001b[0m\u001b[0;34m)\u001b[0m\u001b[0;34m\u001b[0m\u001b[0m\n\u001b[0m\u001b[1;32m     14\u001b[0m \u001b[0mtsne_resnet_df\u001b[0m\u001b[0;34m.\u001b[0m\u001b[0mhead\u001b[0m\u001b[0;34m(\u001b[0m\u001b[0;36m10\u001b[0m\u001b[0;34m)\u001b[0m\u001b[0;34m\u001b[0m\u001b[0m\n\u001b[1;32m     15\u001b[0m \u001b[0;34m\u001b[0m\u001b[0m\n",
            "\u001b[0;31mNameError\u001b[0m: name 'tsne_result' is not defined"
          ]
        }
      ]
    },
    {
      "metadata": {
        "id": "VuY-jNDfM83S",
        "colab_type": "code",
        "colab": {
          "base_uri": "https://localhost:8080/",
          "height": 286
        },
        "outputId": "3e0747e7-0cf4-4189-d643-95a9d53adc8b"
      },
      "cell_type": "code",
      "source": [
        "# Plot principal components\n",
        "fig = plt.figure()\n",
        "ax = fig.add_subplot(1,1,1)\n",
        "ax.set_xlabel('Component 1', fontsize = 15)\n",
        "ax.set_ylabel('Component 2', fontsize = 15)\n",
        "ax.set_aspect('equal')\n",
        "#ax.set_title('2 Component PCA on ResNet18-extracted features', fontsize = 20)\n",
        "\n",
        "for i in range(len(tsne_results)):\n",
        "  ax.scatter(tsne_results[i][0], tsne_results[i][1], \n",
        "             color = color_dict[labels_test[i]], alpha = 0.7)\n",
        "\n",
        "plt.show()"
      ],
      "execution_count": 22,
      "outputs": [
        {
          "output_type": "display_data",
          "data": {
            "image/png": "[encoded data removed]",
            "text/plain": [
              "<matplotlib.figure.Figure at 0x7f66930d3350>"
            ]
          },
          "metadata": {
            "tags": []
          }
        }
      ]
    }
  ]
}