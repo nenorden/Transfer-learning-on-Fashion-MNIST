{
  "nbformat": 4,
  "nbformat_minor": 0,
  "metadata": {
    "colab": {
      "name": "QDA.ipynb",
      "version": "0.3.2",
      "provenance": [],
      "collapsed_sections": []
    },
    "kernelspec": {
      "name": "python3",
      "display_name": "Python 3"
    },
    "accelerator": "GPU"
  },
  "cells": [
    {
      "cell_type": "markdown",
      "metadata": {
        "id": "view-in-github",
        "colab_type": "text"
      },
      "source": [
        "[View in Colaboratory](https://colab.research.google.com/github/nenorden/Transfer-learning-on-Fashion-MNIST/blob/master/QDA.ipynb)"
      ]
    },
    {
      "metadata": {
        "id": "du6qu80fpl6C",
        "colab_type": "text"
      },
      "cell_type": "markdown",
      "source": [
        "# Download Fashion-MNIST"
      ]
    },
    {
      "metadata": {
        "id": "U5tsOuhzqGKj",
        "colab_type": "code",
        "colab": {
          "base_uri": "https://localhost:8080/",
          "height": 55
        },
        "outputId": "49dcc342-a9f2-4ddc-d827-27e43953b707"
      },
      "cell_type": "code",
      "source": [
        "import os\n",
        "os.chdir('/content/')\n",
        "!git clone https://github.com/zalandoresearch/fashion-mnist.git \n",
        "os.chdir('/content/fashion-mnist/')\n",
        "import utils.mnist_reader as mnist_reader\n",
        "os.chdir(\"/\")\n",
        "train_x_orig, train_y = mnist_reader.load_mnist('content/fashion-mnist/data/fashion', kind='train')\n",
        "test_x_orig, test_y = mnist_reader.load_mnist('content/fashion-mnist/data/fashion', kind='t10k')\n"
      ],
      "execution_count": 1,
      "outputs": [
        {
          "output_type": "stream",
          "text": [
            "fatal: destination path 'fashion-mnist' already exists and is not an empty directory.\r\n"
          ],
          "name": "stdout"
        }
      ]
    },
    {
      "metadata": {
        "id": "K477rMNaoY0c",
        "colab_type": "text"
      },
      "cell_type": "markdown",
      "source": [
        "# Import ResNet Features"
      ]
    },
    {
      "metadata": {
        "id": "jdfxjpFUfyNL",
        "colab_type": "text"
      },
      "cell_type": "markdown",
      "source": [
        "## Download features from Drive to virtual machine"
      ]
    },
    {
      "metadata": {
        "id": "Kb_APrWbogR_",
        "colab_type": "code",
        "colab": {
          "base_uri": "https://localhost:8080/",
          "height": 52
        },
        "outputId": "e51afbe6-f1a8-461a-bce5-5f925615f7f7"
      },
      "cell_type": "code",
      "source": [
        "!pip install -U -q PyDrive\n",
        "\n",
        "from pydrive.auth import GoogleAuth\n",
        "from pydrive.drive import GoogleDrive\n",
        "from google.colab import auth\n",
        "from oauth2client.client import GoogleCredentials\n",
        "\n",
        "# Authenticate\n",
        "auth.authenticate_user()\n",
        "gauth = GoogleAuth()\n",
        "gauth.credentials = GoogleCredentials.get_application_default()\n",
        "drive = GoogleDrive(gauth)\n",
        "\n",
        "train_file_id = '1j1488T_da1oVlwwy-_19GMuY9tSucqzg'\n",
        "test_file_id = '1qR7fOsQ6TTW8eV8SnKN-jVvswlzMx9QM'\n",
        "\n",
        "os.chdir('/content/')\n",
        "# Load files by ID\n",
        "downloaded = drive.CreateFile({'id': train_file_id})\n",
        "downloaded.GetContentFile('train_fashion-MNIST_resnet.npy')\n",
        "\n",
        "downloaded = drive.CreateFile({'id': test_file_id})\n",
        "downloaded.GetContentFile('test_fashion-MNIST_resnet.npy')\n",
        "\n",
        "# Files should be in /content/. Check!\n",
        "\n",
        "!ls\n",
        "os.chdir('/')\n"
      ],
      "execution_count": 2,
      "outputs": [
        {
          "output_type": "stream",
          "text": [
            "datalab        test_fashion-MNIST_resnet.npy\r\n",
            "fashion-mnist  train_fashion-MNIST_resnet.npy\r\n"
          ],
          "name": "stdout"
        }
      ]
    },
    {
      "metadata": {
        "id": "mGzkI9pffruf",
        "colab_type": "text"
      },
      "cell_type": "markdown",
      "source": [
        "## Load ResNet data"
      ]
    },
    {
      "metadata": {
        "id": "bt8XQJI6oL1w",
        "colab_type": "code",
        "colab": {}
      },
      "cell_type": "code",
      "source": [
        "%matplotlib inline\n",
        "import tensorflow as tf\n",
        "import random\n",
        "import numpy as np\n",
        "import matplotlib.pyplot as plt\n",
        "\n",
        "os.chdir('/content/')\n",
        "train_x = np.load('train_fashion-MNIST_resnet.npy')\n",
        "test_x = np.load('test_fashion-MNIST_resnet.npy')\n",
        "os.chdir('/')\n"
      ],
      "execution_count": 0,
      "outputs": []
    },
    {
      "metadata": {
        "id": "S4npddtIoya3",
        "colab_type": "text"
      },
      "cell_type": "markdown",
      "source": [
        "# QDA"
      ]
    },
    {
      "metadata": {
        "id": "J0b3DFwUnm1C",
        "colab_type": "text"
      },
      "cell_type": "markdown",
      "source": [
        "## ResNet features"
      ]
    },
    {
      "metadata": {
        "id": "Twx55UEfoz2T",
        "colab_type": "code",
        "colab": {
          "base_uri": "https://localhost:8080/",
          "height": 35
        },
        "outputId": "66ac5849-4921-4d42-e533-2d7fea95029e"
      },
      "cell_type": "code",
      "source": [
        "import sklearn\n",
        "from sklearn.discriminant_analysis import QuadraticDiscriminantAnalysis as QDA\n",
        "\n",
        "# Create QDA model and fit to training data\n",
        "lda = QDA()\n",
        "lda.fit(train_x, train_y)\n",
        "\n",
        "# Predict on test data\n",
        "lda_predict = lda.predict(test_x)\n",
        "\n",
        "# Get accuracy\n",
        "lda_acc = (lda_predict==test_y).mean()\n",
        "print(lda_acc)\n"
      ],
      "execution_count": 5,
      "outputs": [
        {
          "output_type": "stream",
          "text": [
            "0.7661\n"
          ],
          "name": "stdout"
        }
      ]
    },
    {
      "metadata": {
        "id": "ocK-AGYEnpgw",
        "colab_type": "text"
      },
      "cell_type": "markdown",
      "source": [
        "## Original features"
      ]
    },
    {
      "metadata": {
        "id": "zmocKp0VnTIH",
        "colab_type": "code",
        "colab": {
          "base_uri": "https://localhost:8080/",
          "height": 90
        },
        "outputId": "4ff32d92-d081-4238-fdf1-8fd86fd417b1"
      },
      "cell_type": "code",
      "source": [
        "import sklearn\n",
        "from sklearn.discriminant_analysis import QuadraticDiscriminantAnalysis as QDA\n",
        "\n",
        "# Create QDA model and fit on training data\n",
        "lda_orig = QDA()\n",
        "lda_orig.fit(train_x_orig, train_y)\n",
        "\n",
        "# Predict on test data\n",
        "lda_predict_orig = lda_orig.predict(test_x_orig)\n",
        "\n",
        "# Get accuracy\n",
        "lda_acc_orig = (lda_predict_orig==test_y).mean()\n",
        "print(lda_acc_orig)"
      ],
      "execution_count": 6,
      "outputs": [
        {
          "output_type": "stream",
          "text": [
            "/usr/local/lib/python3.6/dist-packages/sklearn/discriminant_analysis.py:682: UserWarning: Variables are collinear\n",
            "  warnings.warn(\"Variables are collinear\")\n"
          ],
          "name": "stderr"
        },
        {
          "output_type": "stream",
          "text": [
            "0.568\n"
          ],
          "name": "stdout"
        }
      ]
    }
  ]
}