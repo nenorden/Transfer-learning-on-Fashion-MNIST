{
  "nbformat": 4,
  "nbformat_minor": 0,
  "metadata": {
    "colab": {
      "name": "LDA.ipynb",
      "version": "0.3.2",
      "provenance": [],
      "collapsed_sections": []
    },
    "kernelspec": {
      "name": "python3",
      "display_name": "Python 3"
    },
    "accelerator": "GPU"
  },
  "cells": [
    {
      "cell_type": "markdown",
      "metadata": {
        "id": "view-in-github",
        "colab_type": "text"
      },
      "source": [
        "[View in Colaboratory](https://colab.research.google.com/github/nenorden/Transfer-learning-on-Fashion-MNIST/blob/master/LDA.ipynb)"
      ]
    },
    {
      "metadata": {
        "id": "du6qu80fpl6C",
        "colab_type": "text"
      },
      "cell_type": "markdown",
      "source": [
        "# Download Fashion-MNIST"
      ]
    },
    {
      "metadata": {
        "id": "U5tsOuhzqGKj",
        "colab_type": "code",
        "colab": {
          "base_uri": "https://localhost:8080/",
          "height": 119
        },
        "outputId": "8cfac62c-a57b-4fc3-e7f0-6fe156cee912"
      },
      "cell_type": "code",
      "source": [
        "import os\n",
        "os.chdir('/content/')\n",
        "!git clone https://github.com/zalandoresearch/fashion-mnist.git \n",
        "os.chdir('/content/fashion-mnist/')\n",
        "import utils.mnist_reader as mnist_reader\n",
        "os.chdir(\"/\")\n",
        "train_x_orig, train_y = mnist_reader.load_mnist('content/fashion-mnist/data/fashion', kind='train')\n",
        "test_x_orig, test_y = mnist_reader.load_mnist('content/fashion-mnist/data/fashion', kind='t10k')\n"
      ],
      "execution_count": 1,
      "outputs": [
        {
          "output_type": "stream",
          "text": [
            "Cloning into 'fashion-mnist'...\n",
            "remote: Counting objects: 609, done.\u001b[K\n",
            "remote: Compressing objects: 100% (6/6), done.\u001b[K\n",
            "remote: Total 609 (delta 3), reused 0 (delta 0), pack-reused 603\u001b[K\n",
            "Receiving objects: 100% (609/609), 105.17 MiB | 48.88 MiB/s, done.\n",
            "Resolving deltas: 100% (345/345), done.\n"
          ],
          "name": "stdout"
        }
      ]
    },
    {
      "metadata": {
        "id": "K477rMNaoY0c",
        "colab_type": "text"
      },
      "cell_type": "markdown",
      "source": [
        "# Import ResNet Features"
      ]
    },
    {
      "metadata": {
        "id": "Kb_APrWbogR_",
        "colab_type": "code",
        "colab": {
          "base_uri": "https://localhost:8080/",
          "height": 51
        },
        "outputId": "e7fcf33b-ad89-4358-d4b7-187c4f5f43e8"
      },
      "cell_type": "code",
      "source": [
        "!pip install -U -q PyDrive\n",
        "\n",
        "from pydrive.auth import GoogleAuth\n",
        "from pydrive.drive import GoogleDrive\n",
        "from google.colab import auth\n",
        "from oauth2client.client import GoogleCredentials\n",
        "\n",
        "# Authenticate\n",
        "auth.authenticate_user()\n",
        "gauth = GoogleAuth()\n",
        "gauth.credentials = GoogleCredentials.get_application_default()\n",
        "drive = GoogleDrive(gauth)\n",
        "\n",
        "train_file_id = '1u9MTHtqwDtHL3z6NHMP8xRJw_54Fag5T'\n",
        "test_file_id = '1kkbjDm6hilfA4PFcxBgRGrN8gcGY6dmn'\n",
        "\n",
        "\n",
        "os.chdir('/content/')\n",
        "# Load files by ID\n",
        "downloaded = drive.CreateFile({'id': train_file_id})\n",
        "downloaded.GetContentFile('train_fashion-MNIST_resnet.npy')\n",
        "\n",
        "downloaded = drive.CreateFile({'id': test_file_id})\n",
        "downloaded.GetContentFile('test_fashion-MNIST_resnet.npy')\n",
        "\n",
        "# Files should be in /content/. Check!\n",
        "\n",
        "!ls\n",
        "os.chdir('/')\n"
      ],
      "execution_count": 4,
      "outputs": [
        {
          "output_type": "stream",
          "text": [
            "datalab        test_fashion-MNIST_resnet.npy\r\n",
            "fashion-mnist  train_fashion-MNIST_resnet.npy\r\n"
          ],
          "name": "stdout"
        }
      ]
    },
    {
      "metadata": {
        "id": "bt8XQJI6oL1w",
        "colab_type": "code",
        "colab": {}
      },
      "cell_type": "code",
      "source": [
        "%matplotlib inline\n",
        "import tensorflow as tf\n",
        "import random\n",
        "import numpy as np\n",
        "import matplotlib.pyplot as plt\n",
        "\n",
        "os.chdir('/content/')\n",
        "train_x = np.load('train_fashion-MNIST_resnet.npy')\n",
        "test_x = np.load('test_fashion-MNIST_resnet.npy')\n",
        "os.chdir('/')\n"
      ],
      "execution_count": 0,
      "outputs": []
    },
    {
      "metadata": {
        "id": "S4npddtIoya3",
        "colab_type": "text"
      },
      "cell_type": "markdown",
      "source": [
        "# LDA"
      ]
    },
    {
      "metadata": {
        "id": "J0b3DFwUnm1C",
        "colab_type": "text"
      },
      "cell_type": "markdown",
      "source": [
        "## ResNet features"
      ]
    },
    {
      "metadata": {
        "id": "Twx55UEfoz2T",
        "colab_type": "code",
        "colab": {
          "base_uri": "https://localhost:8080/",
          "height": 34
        },
        "outputId": "12c4e2e8-f1ac-468a-9ded-044a30851a90"
      },
      "cell_type": "code",
      "source": [
        "import sklearn\n",
        "from sklearn.discriminant_analysis import LinearDiscriminantAnalysis as LDA\n",
        "lda = LDA(n_components=None)\n",
        "lda.fit(train_x, train_y)\n",
        "lda_predict = lda.predict(test_x)\n",
        "\n",
        "lda_acc = (lda_predict==test_y).mean()\n",
        "print(lda_acc)\n"
      ],
      "execution_count": 7,
      "outputs": [
        {
          "output_type": "stream",
          "text": [
            "0.7708\n"
          ],
          "name": "stdout"
        }
      ]
    },
    {
      "metadata": {
        "id": "ocK-AGYEnpgw",
        "colab_type": "text"
      },
      "cell_type": "markdown",
      "source": [
        "## Original features"
      ]
    },
    {
      "metadata": {
        "id": "zmocKp0VnTIH",
        "colab_type": "code",
        "colab": {
          "base_uri": "https://localhost:8080/",
          "height": 34
        },
        "outputId": "addfe565-201e-4de3-a65c-cf704a9741f1"
      },
      "cell_type": "code",
      "source": [
        "import sklearn\n",
        "from sklearn.discriminant_analysis import LinearDiscriminantAnalysis as LDA\n",
        "lda_orig = LDA(n_components=None)\n",
        "lda_orig.fit(train_x_orig, train_y)\n",
        "lda_predict_orig = lda_orig.predict(test_x_orig)\n",
        "\n",
        "lda_acc_orig = (lda_predict_orig==test_y).mean()\n",
        "print(lda_acc_orig)"
      ],
      "execution_count": 8,
      "outputs": [
        {
          "output_type": "stream",
          "text": [
            "0.8151\n"
          ],
          "name": "stdout"
        }
      ]
    }
  ]
}